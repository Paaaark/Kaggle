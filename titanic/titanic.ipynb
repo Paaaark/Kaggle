{
  "cells": [
    {
      "cell_type": "markdown",
      "metadata": {
        "id": "view-in-github",
        "colab_type": "text"
      },
      "source": [
        "<a href=\"https://colab.research.google.com/github/Paaaark/Kaggle/blob/main/titanic/titanic.ipynb\" target=\"_parent\"><img src=\"https://colab.research.google.com/assets/colab-badge.svg\" alt=\"Open In Colab\"/></a>"
      ]
    },
    {
      "cell_type": "code",
      "execution_count": 1,
      "metadata": {
        "colab": {
          "base_uri": "https://localhost:8080/"
        },
        "id": "UOfRb3wjjfGD",
        "outputId": "8ea3ebf6-cf71-4c1f-850d-5fffe5fc0e0c"
      },
      "outputs": [
        {
          "output_type": "stream",
          "name": "stdout",
          "text": [
            "Mounted at /content/drive\n"
          ]
        }
      ],
      "source": [
        "from google.colab import drive\n",
        "drive.mount('/content/drive')"
      ]
    },
    {
      "cell_type": "code",
      "execution_count": 92,
      "metadata": {
        "id": "vAbirriOkvWi"
      },
      "outputs": [],
      "source": [
        "import numpy as np\n",
        "import pandas as pd\n",
        "import matplotlib.pyplot as plt\n",
        "import tensorflow as tf\n",
        "from sklearn import preprocessing\n",
        "from sklearn import model_selection\n",
        "import csv\n",
        "from tabulate import tabulate"
      ]
    },
    {
      "cell_type": "code",
      "execution_count": 18,
      "metadata": {
        "colab": {
          "base_uri": "https://localhost:8080/"
        },
        "id": "5gDpQO6z9Cy8",
        "outputId": "236c9fea-9481-44a6-ff8b-be0fd34726d6"
      },
      "outputs": [
        {
          "output_type": "stream",
          "name": "stdout",
          "text": [
            "Drive already mounted at /content/drive; to attempt to forcibly remount, call drive.mount(\"/content/drive\", force_remount=True).\n"
          ]
        }
      ],
      "source": [
        "%run /content/drive/MyDrive/Kaggle/titanic/helper.ipynb"
      ]
    },
    {
      "cell_type": "code",
      "execution_count": 4,
      "metadata": {
        "colab": {
          "base_uri": "https://localhost:8080/",
          "height": 204
        },
        "id": "BZenlyipkzKd",
        "outputId": "f2bb63ff-f4d7-467a-8c0b-e8bf3e7cfde5"
      },
      "outputs": [
        {
          "output_type": "execute_result",
          "data": {
            "text/plain": [
              "   PassengerId  Survived  Pclass  \\\n",
              "0            1         0       3   \n",
              "1            2         1       1   \n",
              "2            3         1       3   \n",
              "3            4         1       1   \n",
              "4            5         0       3   \n",
              "\n",
              "                                                Name     Sex   Age  SibSp  \\\n",
              "0                            Braund, Mr. Owen Harris    male  22.0      1   \n",
              "1  Cumings, Mrs. John Bradley (Florence Briggs Th...  female  38.0      1   \n",
              "2                             Heikkinen, Miss. Laina  female  26.0      0   \n",
              "3       Futrelle, Mrs. Jacques Heath (Lily May Peel)  female  35.0      1   \n",
              "4                           Allen, Mr. William Henry    male  35.0      0   \n",
              "\n",
              "   Parch            Ticket     Fare Cabin Embarked  \n",
              "0      0         A/5 21171   7.2500   NaN        S  \n",
              "1      0          PC 17599  71.2833   C85        C  \n",
              "2      0  STON/O2. 3101282   7.9250   NaN        S  \n",
              "3      0            113803  53.1000  C123        S  \n",
              "4      0            373450   8.0500   NaN        S  "
            ],
            "text/html": [
              "\n",
              "  <div id=\"df-00004ccf-6744-4e0d-abc8-12ed5888ec48\" class=\"colab-df-container\">\n",
              "    <div>\n",
              "<style scoped>\n",
              "    .dataframe tbody tr th:only-of-type {\n",
              "        vertical-align: middle;\n",
              "    }\n",
              "\n",
              "    .dataframe tbody tr th {\n",
              "        vertical-align: top;\n",
              "    }\n",
              "\n",
              "    .dataframe thead th {\n",
              "        text-align: right;\n",
              "    }\n",
              "</style>\n",
              "<table border=\"1\" class=\"dataframe\">\n",
              "  <thead>\n",
              "    <tr style=\"text-align: right;\">\n",
              "      <th></th>\n",
              "      <th>PassengerId</th>\n",
              "      <th>Survived</th>\n",
              "      <th>Pclass</th>\n",
              "      <th>Name</th>\n",
              "      <th>Sex</th>\n",
              "      <th>Age</th>\n",
              "      <th>SibSp</th>\n",
              "      <th>Parch</th>\n",
              "      <th>Ticket</th>\n",
              "      <th>Fare</th>\n",
              "      <th>Cabin</th>\n",
              "      <th>Embarked</th>\n",
              "    </tr>\n",
              "  </thead>\n",
              "  <tbody>\n",
              "    <tr>\n",
              "      <th>0</th>\n",
              "      <td>1</td>\n",
              "      <td>0</td>\n",
              "      <td>3</td>\n",
              "      <td>Braund, Mr. Owen Harris</td>\n",
              "      <td>male</td>\n",
              "      <td>22.0</td>\n",
              "      <td>1</td>\n",
              "      <td>0</td>\n",
              "      <td>A/5 21171</td>\n",
              "      <td>7.2500</td>\n",
              "      <td>NaN</td>\n",
              "      <td>S</td>\n",
              "    </tr>\n",
              "    <tr>\n",
              "      <th>1</th>\n",
              "      <td>2</td>\n",
              "      <td>1</td>\n",
              "      <td>1</td>\n",
              "      <td>Cumings, Mrs. John Bradley (Florence Briggs Th...</td>\n",
              "      <td>female</td>\n",
              "      <td>38.0</td>\n",
              "      <td>1</td>\n",
              "      <td>0</td>\n",
              "      <td>PC 17599</td>\n",
              "      <td>71.2833</td>\n",
              "      <td>C85</td>\n",
              "      <td>C</td>\n",
              "    </tr>\n",
              "    <tr>\n",
              "      <th>2</th>\n",
              "      <td>3</td>\n",
              "      <td>1</td>\n",
              "      <td>3</td>\n",
              "      <td>Heikkinen, Miss. Laina</td>\n",
              "      <td>female</td>\n",
              "      <td>26.0</td>\n",
              "      <td>0</td>\n",
              "      <td>0</td>\n",
              "      <td>STON/O2. 3101282</td>\n",
              "      <td>7.9250</td>\n",
              "      <td>NaN</td>\n",
              "      <td>S</td>\n",
              "    </tr>\n",
              "    <tr>\n",
              "      <th>3</th>\n",
              "      <td>4</td>\n",
              "      <td>1</td>\n",
              "      <td>1</td>\n",
              "      <td>Futrelle, Mrs. Jacques Heath (Lily May Peel)</td>\n",
              "      <td>female</td>\n",
              "      <td>35.0</td>\n",
              "      <td>1</td>\n",
              "      <td>0</td>\n",
              "      <td>113803</td>\n",
              "      <td>53.1000</td>\n",
              "      <td>C123</td>\n",
              "      <td>S</td>\n",
              "    </tr>\n",
              "    <tr>\n",
              "      <th>4</th>\n",
              "      <td>5</td>\n",
              "      <td>0</td>\n",
              "      <td>3</td>\n",
              "      <td>Allen, Mr. William Henry</td>\n",
              "      <td>male</td>\n",
              "      <td>35.0</td>\n",
              "      <td>0</td>\n",
              "      <td>0</td>\n",
              "      <td>373450</td>\n",
              "      <td>8.0500</td>\n",
              "      <td>NaN</td>\n",
              "      <td>S</td>\n",
              "    </tr>\n",
              "  </tbody>\n",
              "</table>\n",
              "</div>\n",
              "    <div class=\"colab-df-buttons\">\n",
              "\n",
              "  <div class=\"colab-df-container\">\n",
              "    <button class=\"colab-df-convert\" onclick=\"convertToInteractive('df-00004ccf-6744-4e0d-abc8-12ed5888ec48')\"\n",
              "            title=\"Convert this dataframe to an interactive table.\"\n",
              "            style=\"display:none;\">\n",
              "\n",
              "  <svg xmlns=\"http://www.w3.org/2000/svg\" height=\"24px\" viewBox=\"0 -960 960 960\">\n",
              "    <path d=\"M120-120v-720h720v720H120Zm60-500h600v-160H180v160Zm220 220h160v-160H400v160Zm0 220h160v-160H400v160ZM180-400h160v-160H180v160Zm440 0h160v-160H620v160ZM180-180h160v-160H180v160Zm440 0h160v-160H620v160Z\"/>\n",
              "  </svg>\n",
              "    </button>\n",
              "\n",
              "  <style>\n",
              "    .colab-df-container {\n",
              "      display:flex;\n",
              "      gap: 12px;\n",
              "    }\n",
              "\n",
              "    .colab-df-convert {\n",
              "      background-color: #E8F0FE;\n",
              "      border: none;\n",
              "      border-radius: 50%;\n",
              "      cursor: pointer;\n",
              "      display: none;\n",
              "      fill: #1967D2;\n",
              "      height: 32px;\n",
              "      padding: 0 0 0 0;\n",
              "      width: 32px;\n",
              "    }\n",
              "\n",
              "    .colab-df-convert:hover {\n",
              "      background-color: #E2EBFA;\n",
              "      box-shadow: 0px 1px 2px rgba(60, 64, 67, 0.3), 0px 1px 3px 1px rgba(60, 64, 67, 0.15);\n",
              "      fill: #174EA6;\n",
              "    }\n",
              "\n",
              "    .colab-df-buttons div {\n",
              "      margin-bottom: 4px;\n",
              "    }\n",
              "\n",
              "    [theme=dark] .colab-df-convert {\n",
              "      background-color: #3B4455;\n",
              "      fill: #D2E3FC;\n",
              "    }\n",
              "\n",
              "    [theme=dark] .colab-df-convert:hover {\n",
              "      background-color: #434B5C;\n",
              "      box-shadow: 0px 1px 3px 1px rgba(0, 0, 0, 0.15);\n",
              "      filter: drop-shadow(0px 1px 2px rgba(0, 0, 0, 0.3));\n",
              "      fill: #FFFFFF;\n",
              "    }\n",
              "  </style>\n",
              "\n",
              "    <script>\n",
              "      const buttonEl =\n",
              "        document.querySelector('#df-00004ccf-6744-4e0d-abc8-12ed5888ec48 button.colab-df-convert');\n",
              "      buttonEl.style.display =\n",
              "        google.colab.kernel.accessAllowed ? 'block' : 'none';\n",
              "\n",
              "      async function convertToInteractive(key) {\n",
              "        const element = document.querySelector('#df-00004ccf-6744-4e0d-abc8-12ed5888ec48');\n",
              "        const dataTable =\n",
              "          await google.colab.kernel.invokeFunction('convertToInteractive',\n",
              "                                                    [key], {});\n",
              "        if (!dataTable) return;\n",
              "\n",
              "        const docLinkHtml = 'Like what you see? Visit the ' +\n",
              "          '<a target=\"_blank\" href=https://colab.research.google.com/notebooks/data_table.ipynb>data table notebook</a>'\n",
              "          + ' to learn more about interactive tables.';\n",
              "        element.innerHTML = '';\n",
              "        dataTable['output_type'] = 'display_data';\n",
              "        await google.colab.output.renderOutput(dataTable, element);\n",
              "        const docLink = document.createElement('div');\n",
              "        docLink.innerHTML = docLinkHtml;\n",
              "        element.appendChild(docLink);\n",
              "      }\n",
              "    </script>\n",
              "  </div>\n",
              "\n",
              "\n",
              "<div id=\"df-d62d93e2-ab02-4fa1-bcdf-d6d245778880\">\n",
              "  <button class=\"colab-df-quickchart\" onclick=\"quickchart('df-d62d93e2-ab02-4fa1-bcdf-d6d245778880')\"\n",
              "            title=\"Suggest charts.\"\n",
              "            style=\"display:none;\">\n",
              "\n",
              "<svg xmlns=\"http://www.w3.org/2000/svg\" height=\"24px\"viewBox=\"0 0 24 24\"\n",
              "     width=\"24px\">\n",
              "    <g>\n",
              "        <path d=\"M19 3H5c-1.1 0-2 .9-2 2v14c0 1.1.9 2 2 2h14c1.1 0 2-.9 2-2V5c0-1.1-.9-2-2-2zM9 17H7v-7h2v7zm4 0h-2V7h2v10zm4 0h-2v-4h2v4z\"/>\n",
              "    </g>\n",
              "</svg>\n",
              "  </button>\n",
              "\n",
              "<style>\n",
              "  .colab-df-quickchart {\n",
              "      --bg-color: #E8F0FE;\n",
              "      --fill-color: #1967D2;\n",
              "      --hover-bg-color: #E2EBFA;\n",
              "      --hover-fill-color: #174EA6;\n",
              "      --disabled-fill-color: #AAA;\n",
              "      --disabled-bg-color: #DDD;\n",
              "  }\n",
              "\n",
              "  [theme=dark] .colab-df-quickchart {\n",
              "      --bg-color: #3B4455;\n",
              "      --fill-color: #D2E3FC;\n",
              "      --hover-bg-color: #434B5C;\n",
              "      --hover-fill-color: #FFFFFF;\n",
              "      --disabled-bg-color: #3B4455;\n",
              "      --disabled-fill-color: #666;\n",
              "  }\n",
              "\n",
              "  .colab-df-quickchart {\n",
              "    background-color: var(--bg-color);\n",
              "    border: none;\n",
              "    border-radius: 50%;\n",
              "    cursor: pointer;\n",
              "    display: none;\n",
              "    fill: var(--fill-color);\n",
              "    height: 32px;\n",
              "    padding: 0;\n",
              "    width: 32px;\n",
              "  }\n",
              "\n",
              "  .colab-df-quickchart:hover {\n",
              "    background-color: var(--hover-bg-color);\n",
              "    box-shadow: 0 1px 2px rgba(60, 64, 67, 0.3), 0 1px 3px 1px rgba(60, 64, 67, 0.15);\n",
              "    fill: var(--button-hover-fill-color);\n",
              "  }\n",
              "\n",
              "  .colab-df-quickchart-complete:disabled,\n",
              "  .colab-df-quickchart-complete:disabled:hover {\n",
              "    background-color: var(--disabled-bg-color);\n",
              "    fill: var(--disabled-fill-color);\n",
              "    box-shadow: none;\n",
              "  }\n",
              "\n",
              "  .colab-df-spinner {\n",
              "    border: 2px solid var(--fill-color);\n",
              "    border-color: transparent;\n",
              "    border-bottom-color: var(--fill-color);\n",
              "    animation:\n",
              "      spin 1s steps(1) infinite;\n",
              "  }\n",
              "\n",
              "  @keyframes spin {\n",
              "    0% {\n",
              "      border-color: transparent;\n",
              "      border-bottom-color: var(--fill-color);\n",
              "      border-left-color: var(--fill-color);\n",
              "    }\n",
              "    20% {\n",
              "      border-color: transparent;\n",
              "      border-left-color: var(--fill-color);\n",
              "      border-top-color: var(--fill-color);\n",
              "    }\n",
              "    30% {\n",
              "      border-color: transparent;\n",
              "      border-left-color: var(--fill-color);\n",
              "      border-top-color: var(--fill-color);\n",
              "      border-right-color: var(--fill-color);\n",
              "    }\n",
              "    40% {\n",
              "      border-color: transparent;\n",
              "      border-right-color: var(--fill-color);\n",
              "      border-top-color: var(--fill-color);\n",
              "    }\n",
              "    60% {\n",
              "      border-color: transparent;\n",
              "      border-right-color: var(--fill-color);\n",
              "    }\n",
              "    80% {\n",
              "      border-color: transparent;\n",
              "      border-right-color: var(--fill-color);\n",
              "      border-bottom-color: var(--fill-color);\n",
              "    }\n",
              "    90% {\n",
              "      border-color: transparent;\n",
              "      border-bottom-color: var(--fill-color);\n",
              "    }\n",
              "  }\n",
              "</style>\n",
              "\n",
              "  <script>\n",
              "    async function quickchart(key) {\n",
              "      const quickchartButtonEl =\n",
              "        document.querySelector('#' + key + ' button');\n",
              "      quickchartButtonEl.disabled = true;  // To prevent multiple clicks.\n",
              "      quickchartButtonEl.classList.add('colab-df-spinner');\n",
              "      try {\n",
              "        const charts = await google.colab.kernel.invokeFunction(\n",
              "            'suggestCharts', [key], {});\n",
              "      } catch (error) {\n",
              "        console.error('Error during call to suggestCharts:', error);\n",
              "      }\n",
              "      quickchartButtonEl.classList.remove('colab-df-spinner');\n",
              "      quickchartButtonEl.classList.add('colab-df-quickchart-complete');\n",
              "    }\n",
              "    (() => {\n",
              "      let quickchartButtonEl =\n",
              "        document.querySelector('#df-d62d93e2-ab02-4fa1-bcdf-d6d245778880 button');\n",
              "      quickchartButtonEl.style.display =\n",
              "        google.colab.kernel.accessAllowed ? 'block' : 'none';\n",
              "    })();\n",
              "  </script>\n",
              "</div>\n",
              "    </div>\n",
              "  </div>\n"
            ]
          },
          "metadata": {},
          "execution_count": 4
        }
      ],
      "source": [
        "df = pd.read_csv('/content/drive/MyDrive/Kaggle/titanic/train.csv')\n",
        "df.head()"
      ]
    },
    {
      "cell_type": "markdown",
      "source": [
        "# TensorFlow Deep Neural Network"
      ],
      "metadata": {
        "id": "CV7o0Z-v9zYI"
      }
    },
    {
      "cell_type": "code",
      "execution_count": 49,
      "metadata": {
        "colab": {
          "base_uri": "https://localhost:8080/",
          "height": 430
        },
        "id": "mtjYCA8PGPTM",
        "outputId": "8346df65-07c8-4c1e-e541-1c97ff343f3a"
      },
      "outputs": [
        {
          "output_type": "display_data",
          "data": {
            "text/plain": [
              "<Figure size 640x480 with 1 Axes>"
            ],
            "image/png": "[encoded data removed]"
          },
          "metadata": {}
        }
      ],
      "source": [
        "train_x, train_y = process_data(df)\n",
        "\n",
        "model = tf.keras.Sequential()\n",
        "model.add(tf.keras.layers.Dense(units=6, activation='relu', input_shape=[6,]))\n",
        "model.add(tf.keras.layers.Dense(units=100, activation='relu'))\n",
        "model.add(tf.keras.layers.Dense(units=1, activation='relu'))\n",
        "\n",
        "model.compile(loss='binary_crossentropy', optimizer='adam', metrics=['acc'])\n",
        "hist = model.fit(train_x, train_y, epochs=30, verbose=False,\n",
        "                 validation_split=0.2)\n",
        "plt.plot(hist.history['acc'])\n",
        "plt.show()"
      ]
    },
    {
      "cell_type": "markdown",
      "source": [
        "# Scikit-learn Models Benchmark"
      ],
      "metadata": {
        "id": "5qdoLHx_-B83"
      }
    },
    {
      "cell_type": "code",
      "execution_count": 55,
      "metadata": {
        "colab": {
          "base_uri": "https://localhost:8080/"
        },
        "id": "LioMKjeCAXcW",
        "outputId": "1269448d-da81-4401-fc0f-cc16e2170b38"
      },
      "outputs": [
        {
          "output_type": "stream",
          "name": "stdout",
          "text": [
            "Random Forest\n",
            "Train Acc:  0.7963483146067416\n",
            "Test Acc:  0.7597765363128491\n",
            "Decision Tree\n",
            "Train Acc:  0.9283707865168539\n",
            "Test Acc:  0.7653631284916201\n",
            "GaussianNB\n",
            "Train Acc:  0.7865168539325843\n",
            "Test Acc:  0.7094972067039106\n",
            "K-Neighbors\n",
            "Train Acc:  0.8455056179775281\n",
            "Test Acc:  0.7039106145251397\n",
            "SVM\n",
            "Train Acc:  0.8188202247191011\n",
            "Test Acc:  0.7597765363128491\n",
            "Neural Network\n",
            "Train Acc:  0.8679775280898876\n",
            "Test Acc:  0.7206703910614525\n"
          ]
        },
        {
          "output_type": "stream",
          "name": "stderr",
          "text": [
            "/usr/local/lib/python3.10/dist-packages/sklearn/neural_network/_multilayer_perceptron.py:541: ConvergenceWarning: lbfgs failed to converge (status=1):\n",
            "STOP: TOTAL NO. of ITERATIONS REACHED LIMIT.\n",
            "\n",
            "Increase the number of iterations (max_iter) or scale the data as shown in:\n",
            "    https://scikit-learn.org/stable/modules/preprocessing.html\n",
            "  self.n_iter_ = _check_optimize_result(\"lbfgs\", opt_res, self.max_iter)\n"
          ]
        }
      ],
      "source": [
        "from sklearn.ensemble import RandomForestClassifier\n",
        "from sklearn.naive_bayes import GaussianNB\n",
        "from sklearn.tree import DecisionTreeClassifier\n",
        "from sklearn.neighbors import KNeighborsClassifier\n",
        "from sklearn.svm import SVC\n",
        "from sklearn.neural_network import MLPClassifier\n",
        "\n",
        "models = [RandomForestClassifier(max_depth=2, random_state=0),\n",
        "          DecisionTreeClassifier(random_state=0),\n",
        "          GaussianNB(),\n",
        "          KNeighborsClassifier(n_neighbors=5),\n",
        "          SVC(gamma='auto'),\n",
        "          MLPClassifier(random_state=1, max_iter=500, solver='lbfgs', early_stopping=True)]\n",
        "model_names = ['Random Forest', 'Decision Tree', 'GaussianNB', 'K-Neighbors',\n",
        "               'SVM', 'Neural Network']\n",
        "\n",
        "train_x, test_x, train_y, test_y = process_data(df, 0.2, drop_columns=['Embarked'])\n",
        "for model, model_name in zip(models, model_names):\n",
        "  model = model.fit(train_x, train_y)\n",
        "  print(model_name)\n",
        "  print(\"Train Acc: \", model.score(train_x, train_y))\n",
        "  print(\"Test Acc: \", model.score(test_x, test_y))"
      ]
    },
    {
      "cell_type": "code",
      "source": [
        "train_x, test_x, train_y, test_y = process_data(df, 0.4, drop_columns=['Embarked', 'Fare'])\n",
        "print(len(train_x[0]))\n",
        "fitted_model = []\n",
        "for n in range(2, 16):\n",
        "  model = KNeighborsClassifier(n_neighbors=n)\n",
        "  model = model.fit(train_x, train_y)\n",
        "  fitted_model.append(model)\n",
        "  print(n)\n",
        "  print(\"Train Acc: \", model.score(train_x, train_y))\n",
        "  print(\"Test Acc: \", model.score(test_x, test_y))"
      ],
      "metadata": {
        "colab": {
          "base_uri": "https://localhost:8080/"
        },
        "id": "PPhRqdeC6wzs",
        "outputId": "19d4a481-d854-47f0-9ad8-71f05ff3d044"
      },
      "execution_count": 60,
      "outputs": [
        {
          "output_type": "stream",
          "name": "stdout",
          "text": [
            "4\n",
            "2\n",
            "Train Acc:  0.8014981273408239\n",
            "Test Acc:  0.7787114845938375\n",
            "3\n",
            "Train Acc:  0.8258426966292135\n",
            "Test Acc:  0.7899159663865546\n",
            "4\n",
            "Train Acc:  0.8220973782771536\n",
            "Test Acc:  0.7899159663865546\n",
            "5\n",
            "Train Acc:  0.8239700374531835\n",
            "Test Acc:  0.7871148459383753\n",
            "6\n",
            "Train Acc:  0.8220973782771536\n",
            "Test Acc:  0.7843137254901961\n",
            "7\n",
            "Train Acc:  0.8258426966292135\n",
            "Test Acc:  0.7815126050420168\n",
            "8\n",
            "Train Acc:  0.8202247191011236\n",
            "Test Acc:  0.7759103641456583\n",
            "9\n",
            "Train Acc:  0.8220973782771536\n",
            "Test Acc:  0.7787114845938375\n",
            "10\n",
            "Train Acc:  0.8202247191011236\n",
            "Test Acc:  0.773109243697479\n",
            "11\n",
            "Train Acc:  0.8183520599250936\n",
            "Test Acc:  0.7787114845938375\n",
            "12\n",
            "Train Acc:  0.8164794007490637\n",
            "Test Acc:  0.773109243697479\n",
            "13\n",
            "Train Acc:  0.8239700374531835\n",
            "Test Acc:  0.773109243697479\n",
            "14\n",
            "Train Acc:  0.8183520599250936\n",
            "Test Acc:  0.7703081232492998\n",
            "15\n",
            "Train Acc:  0.8239700374531835\n",
            "Test Acc:  0.7703081232492998\n"
          ]
        }
      ]
    },
    {
      "cell_type": "markdown",
      "source": [
        "# Decision Tree Models Benchmark"
      ],
      "metadata": {
        "id": "Fm9zbqMjDDUd"
      }
    },
    {
      "cell_type": "code",
      "source": [
        "train_x, test_x, train_y, test_y = process_data(df, 0.3, drop_columns=['Embarked'])\n",
        "x, y = process_data(df, drop_columns=['Embarked'])\n",
        "options = [\"gini\"]\n",
        "test_acc = []\n",
        "train_acc = []\n",
        "total_acc = []\n",
        "my_range = range(3, 18, 1)\n",
        "for i in my_range:\n",
        "  model = DecisionTreeClassifier(max_depth=i)\n",
        "  model = model.fit(train_x, train_y)\n",
        "  test_acc.append(model.score(test_x, test_y))\n",
        "  train_acc.append(model.score(train_x, train_y))\n",
        "  total_acc.append(model.score(x, y))\n",
        "plt.plot(my_range, train_acc)\n",
        "plt.plot(my_range, test_acc)\n",
        "plt.plot(my_range, total_acc)\n",
        "plt.title(\"Decision Tree Accuracy at Various Depths\")\n",
        "plt.legend(['Train Acc', 'Test Acc', 'Total Acc'])"
      ],
      "metadata": {
        "colab": {
          "base_uri": "https://localhost:8080/",
          "height": 470
        },
        "id": "V3QiAdn0DI5K",
        "outputId": "499e0595-7532-4f48-f20e-16fcfe615175"
      },
      "execution_count": 77,
      "outputs": [
        {
          "output_type": "execute_result",
          "data": {
            "text/plain": [
              "<matplotlib.legend.Legend at 0x7dcd758abf70>"
            ]
          },
          "metadata": {},
          "execution_count": 77
        },
        {
          "output_type": "display_data",
          "data": {
            "text/plain": [
              "<Figure size 640x480 with 1 Axes>"
            ],
            "image/png": "[encoded data removed]"
          },
          "metadata": {}
        }
      ]
    },
    {
      "cell_type": "code",
      "source": [
        "train_x, test_x, train_y, test_y = process_data(df, 0.3, drop_columns=['Embarked'])\n",
        "x, y = process_data(df, drop_columns=['Embarked'])\n",
        "options = [\"gini\"]\n",
        "test_acc = []\n",
        "train_acc = []\n",
        "total_acc = []\n",
        "my_range = range(1, 30, 2)\n",
        "for i in my_range:\n",
        "  model = DecisionTreeClassifier(min_samples_leaf=i)\n",
        "  model = model.fit(train_x, train_y)\n",
        "  test_acc.append(model.score(test_x, test_y))\n",
        "  train_acc.append(model.score(train_x, train_y))\n",
        "  total_acc.append(model.score(x, y))\n",
        "plt.plot(my_range, train_acc)\n",
        "plt.plot(my_range, test_acc)\n",
        "plt.plot(my_range, total_acc)\n",
        "plt.title(\"Decision Tree Accuracy at Various min_samples_leaf\")\n",
        "plt.legend(['Train Acc', 'Test Acc', 'Total Acc'])"
      ],
      "metadata": {
        "colab": {
          "base_uri": "https://localhost:8080/",
          "height": 470
        },
        "id": "kRV2O3mv9m7k",
        "outputId": "db466e43-036c-4953-81ce-87c647c7ce42"
      },
      "execution_count": 84,
      "outputs": [
        {
          "output_type": "execute_result",
          "data": {
            "text/plain": [
              "<matplotlib.legend.Legend at 0x7dcd75c82200>"
            ]
          },
          "metadata": {},
          "execution_count": 84
        },
        {
          "output_type": "display_data",
          "data": {
            "text/plain": [
              "<Figure size 640x480 with 1 Axes>"
            ],
            "image/png": "[encoded data removed]"
          },
          "metadata": {}
        }
      ]
    },
    {
      "cell_type": "code",
      "source": [
        "train_x, test_x, train_y, test_y = process_data(df, 0.3, drop_columns=['Embarked'])\n",
        "x, y = process_data(df, drop_columns=['Embarked'])\n",
        "options = [\"gini\"]\n",
        "acc = {}\n",
        "depth_range = range(3, 17, 1)\n",
        "leaf_range = range(1, 10, 1)\n",
        "my_models = {}\n",
        "for depth in depth_range:\n",
        "  for leaf in leaf_range:\n",
        "    model = DecisionTreeClassifier(max_depth=depth, min_samples_leaf=leaf)\n",
        "    model = model.fit(train_x, train_y)\n",
        "    scores = [model.score(train_x, train_y), model.score(test_x, test_y),\n",
        "              model.score(x, y)]\n",
        "    key = '(' + str(depth) + ', ' + str(leaf) + ')'\n",
        "    acc[key] = scores\n",
        "    my_models[key] = model\n",
        "acc = sorted(acc.items(), key=lambda x:x[1][2], reverse=True)\n",
        "to_table = []\n",
        "for data in acc:\n",
        "  to_table.append([data[0], data[1][0], data[1][1], data[1][2]])\n",
        "print(\"Decision Tree Accuracy at Various max_depth and min_samples_leaf\")\n",
        "print(\"Sorted by high to low accuracy\")\n",
        "print(tabulate(to_table, headers=['(depth, leaf)', 'train_acc', 'test_acc', 'acc']))\n",
        "# plt.plot(my_range, train_acc)\n",
        "# plt.plot(my_range, test_acc)\n",
        "# plt.plot(my_range, total_acc)\n",
        "# plt.title(\"Decision Tree Accuracy at Various min_samples_leaf\")\n",
        "# plt.legend(['Train Acc', 'Test Acc', 'Total Acc'])"
      ],
      "metadata": {
        "colab": {
          "base_uri": "https://localhost:8080/"
        },
        "id": "jVB8G2LJBkRw",
        "outputId": "864220c8-289b-4375-9691-2115a557a992"
      },
      "execution_count": 96,
      "outputs": [
        {
          "output_type": "stream",
          "name": "stdout",
          "text": [
            "Decision Tree Accuracy at Various max_depth and min_samples_leaf\n",
            "Sorted by high to low accuracy\n",
            "(depth, leaf)      train_acc    test_acc       acc\n",
            "---------------  -----------  ----------  --------\n",
            "(16, 1)             0.930979    0.768657  0.882155\n",
            "(15, 1)             0.930979    0.764925  0.881033\n",
            "(14, 1)             0.930979    0.761194  0.87991\n",
            "(13, 1)             0.929374    0.761194  0.878788\n",
            "(12, 1)             0.924559    0.761194  0.875421\n",
            "(11, 1)             0.921348    0.761194  0.873176\n",
            "(10, 1)             0.916533    0.764925  0.870932\n",
            "(9, 1)              0.906902    0.772388  0.866442\n",
            "(8, 1)              0.895666    0.783582  0.861953\n",
            "(11, 2)             0.892456    0.757463  0.851852\n",
            "(12, 2)             0.892456    0.757463  0.851852\n",
            "(13, 2)             0.892456    0.757463  0.851852\n",
            "(14, 2)             0.892456    0.757463  0.851852\n",
            "(15, 2)             0.892456    0.757463  0.851852\n",
            "(16, 2)             0.892456    0.757463  0.851852\n",
            "(9, 2)              0.88764     0.761194  0.849607\n",
            "(10, 2)             0.889246    0.757463  0.849607\n",
            "(8, 2)              0.88122     0.768657  0.847363\n",
            "(8, 3)              0.87801     0.768657  0.845118\n",
            "(9, 3)              0.88122     0.761194  0.845118\n",
            "(10, 3)             0.88122     0.757463  0.843996\n",
            "(11, 3)             0.88122     0.757463  0.843996\n",
            "(12, 3)             0.88122     0.757463  0.843996\n",
            "(13, 3)             0.88122     0.757463  0.843996\n",
            "(14, 3)             0.88122     0.757463  0.843996\n",
            "(15, 3)             0.88122     0.757463  0.843996\n",
            "(16, 3)             0.88122     0.757463  0.843996\n",
            "(7, 1)              0.873194    0.761194  0.839506\n",
            "(13, 4)             0.874799    0.753731  0.838384\n",
            "(14, 4)             0.874799    0.753731  0.838384\n",
            "(15, 4)             0.874799    0.753731  0.838384\n",
            "(16, 4)             0.874799    0.753731  0.838384\n",
            "(8, 6)              0.863563    0.776119  0.837262\n",
            "(10, 6)             0.865169    0.772388  0.837262\n",
            "(11, 6)             0.865169    0.772388  0.837262\n",
            "(12, 6)             0.865169    0.772388  0.837262\n",
            "(13, 6)             0.865169    0.772388  0.837262\n",
            "(14, 6)             0.865169    0.772388  0.837262\n",
            "(15, 6)             0.865169    0.772388  0.837262\n",
            "(16, 6)             0.865169    0.772388  0.837262\n",
            "(9, 6)              0.863563    0.772388  0.836139\n",
            "(12, 4)             0.871589    0.753731  0.836139\n",
            "(13, 5)             0.871589    0.753731  0.836139\n",
            "(14, 5)             0.871589    0.753731  0.836139\n",
            "(15, 5)             0.871589    0.753731  0.836139\n",
            "(16, 5)             0.871589    0.753731  0.836139\n",
            "(11, 4)             0.869984    0.753731  0.835017\n",
            "(11, 5)             0.868379    0.757463  0.835017\n",
            "(12, 5)             0.869984    0.753731  0.835017\n",
            "(10, 4)             0.866774    0.757463  0.833895\n",
            "(10, 5)             0.865169    0.761194  0.833895\n",
            "(7, 2)              0.865169    0.753731  0.83165\n",
            "(7, 3)              0.866774    0.75      0.83165\n",
            "(8, 7)              0.857143    0.772388  0.83165\n",
            "(9, 7)              0.857143    0.772388  0.83165\n",
            "(10, 7)             0.857143    0.772388  0.83165\n",
            "(11, 7)             0.857143    0.772388  0.83165\n",
            "(12, 7)             0.857143    0.772388  0.83165\n",
            "(13, 7)             0.857143    0.772388  0.83165\n",
            "(14, 7)             0.857143    0.772388  0.83165\n",
            "(15, 7)             0.857143    0.772388  0.83165\n",
            "(16, 7)             0.857143    0.772388  0.83165\n",
            "(8, 4)              0.858748    0.757463  0.828283\n",
            "(8, 5)              0.858748    0.757463  0.828283\n",
            "(8, 8)              0.855538    0.764925  0.828283\n",
            "(9, 8)              0.855538    0.764925  0.828283\n",
            "(10, 8)             0.855538    0.764925  0.828283\n",
            "(11, 8)             0.855538    0.764925  0.828283\n",
            "(12, 8)             0.855538    0.764925  0.828283\n",
            "(13, 8)             0.855538    0.764925  0.828283\n",
            "(14, 8)             0.855538    0.764925  0.828283\n",
            "(15, 8)             0.855538    0.764925  0.828283\n",
            "(16, 8)             0.855538    0.764925  0.828283\n",
            "(9, 4)              0.860353    0.75      0.82716\n",
            "(9, 5)              0.858748    0.753731  0.82716\n",
            "(7, 7)              0.852327    0.764925  0.826038\n",
            "(6, 1)              0.857143    0.75      0.824916\n",
            "(7, 6)              0.853933    0.757463  0.824916\n",
            "(8, 9)              0.852327    0.761194  0.824916\n",
            "(9, 9)              0.852327    0.761194  0.824916\n",
            "(10, 9)             0.852327    0.761194  0.824916\n",
            "(11, 9)             0.852327    0.761194  0.824916\n",
            "(12, 9)             0.852327    0.761194  0.824916\n",
            "(13, 9)             0.852327    0.761194  0.824916\n",
            "(14, 9)             0.852327    0.761194  0.824916\n",
            "(15, 9)             0.852327    0.761194  0.824916\n",
            "(16, 9)             0.852327    0.761194  0.824916\n",
            "(6, 7)              0.852327    0.757463  0.823793\n",
            "(6, 8)              0.850722    0.757463  0.822671\n",
            "(7, 8)              0.850722    0.757463  0.822671\n",
            "(6, 2)              0.850722    0.75      0.820426\n",
            "(6, 3)              0.850722    0.75      0.820426\n",
            "(6, 9)              0.847512    0.753731  0.819304\n",
            "(7, 9)              0.847512    0.753731  0.819304\n",
            "(7, 4)              0.852327    0.738806  0.818182\n",
            "(7, 5)              0.852327    0.738806  0.818182\n",
            "(6, 6)              0.847512    0.746269  0.817059\n",
            "(5, 1)              0.847512    0.742537  0.815937\n",
            "(5, 2)              0.844302    0.742537  0.813692\n",
            "(5, 3)              0.844302    0.742537  0.813692\n",
            "(5, 6)              0.837881    0.757463  0.813692\n",
            "(5, 7)              0.837881    0.757463  0.813692\n",
            "(5, 8)              0.837881    0.757463  0.813692\n",
            "(5, 9)              0.837881    0.757463  0.813692\n",
            "(4, 1)              0.834671    0.761194  0.81257\n",
            "(3, 1)              0.833066    0.761194  0.811448\n",
            "(3, 2)              0.833066    0.761194  0.811448\n",
            "(3, 3)              0.833066    0.761194  0.811448\n",
            "(4, 2)              0.833066    0.761194  0.811448\n",
            "(4, 3)              0.833066    0.761194  0.811448\n",
            "(3, 4)              0.82825     0.768657  0.810325\n",
            "(3, 5)              0.82825     0.768657  0.810325\n",
            "(3, 6)              0.82825     0.768657  0.810325\n",
            "(3, 7)              0.82825     0.768657  0.810325\n",
            "(3, 8)              0.82825     0.768657  0.810325\n",
            "(3, 9)              0.82825     0.768657  0.810325\n",
            "(4, 6)              0.82825     0.768657  0.810325\n",
            "(4, 7)              0.82825     0.768657  0.810325\n",
            "(4, 8)              0.82825     0.768657  0.810325\n",
            "(4, 9)              0.82825     0.768657  0.810325\n",
            "(6, 4)              0.844302    0.731343  0.810325\n",
            "(6, 5)              0.844302    0.731343  0.810325\n",
            "(5, 4)              0.839486    0.735075  0.808081\n",
            "(5, 5)              0.839486    0.735075  0.808081\n",
            "(4, 4)              0.829856    0.746269  0.804714\n",
            "(4, 5)              0.829856    0.746269  0.804714\n"
          ]
        }
      ]
    },
    {
      "cell_type": "code",
      "source": [
        "from sklearn.decomposition import PCA\n",
        "train_x, test_x, train_y, test_y = process_data(df, 0.2)\n",
        "\n",
        "pca = PCA()\n",
        "pca.fit(train_x)\n",
        "print(pca.explained_variance_ratio_)\n",
        "print(train_x)"
      ],
      "metadata": {
        "colab": {
          "base_uri": "https://localhost:8080/"
        },
        "id": "MupeMvuO6sWH",
        "outputId": "55b121c4-41c7-4672-b55f-27ec7be10486"
      },
      "execution_count": 63,
      "outputs": [
        {
          "output_type": "stream",
          "name": "stdout",
          "text": [
            "[0.41031488 0.27965333 0.1153202  0.10511885 0.04941706 0.04017568]\n",
            "tf.Tensor(\n",
            "[[ 3.          0.          0.          0.         -0.70621053  2.        ]\n",
            " [ 2.          0.          0.          0.         -0.53769158  2.        ]\n",
            " [ 3.          0.          0.          0.         -0.7065146   2.        ]\n",
            " ...\n",
            " [ 3.          0.          0.          0.         -0.70621053  2.        ]\n",
            " [ 2.          0.          1.          1.         -0.03762989  0.        ]\n",
            " [ 1.          1.          1.          1.          2.67332724  0.        ]], shape=(712, 6), dtype=float64)\n"
          ]
        }
      ]
    },
    {
      "cell_type": "code",
      "source": [
        "from sklearn.model_selection import cross_val_score, cross_validate\n",
        "\n",
        "train_x, test_x, train_y, test_y = process_data(df, split_rate=0.2)\n",
        "# print(train_x)\n",
        "model = DecisionTreeClassifier(max_depth=10)\n",
        "# model = model.fit(train_x, train_y)\n",
        "models = cross_validate(model, train_x, train_y)"
      ],
      "metadata": {
        "id": "QebbZsUnOTIL"
      },
      "execution_count": null,
      "outputs": []
    },
    {
      "cell_type": "code",
      "source": [
        "test_df = pd.read_csv('/content/drive/MyDrive/Kaggle/titanic/test.csv')\n",
        "\n",
        "test = process_data(test_df, drop_columns=['Embarked'])\n",
        "desired_model = my_models['(9, 1)']\n",
        "prediction = desired_model.predict(test)\n",
        "print(prediction)\n",
        "write_prediction(prediction, 'DecisionTree(9, 1)')"
      ],
      "metadata": {
        "colab": {
          "base_uri": "https://localhost:8080/"
        },
        "id": "up3lVQTYKAdV",
        "outputId": "0aeb8eff-1d00-482d-94ff-784fbdb844be"
      },
      "execution_count": 98,
      "outputs": [
        {
          "output_type": "stream",
          "name": "stdout",
          "text": [
            "[0 1 0 0 1 0 1 0 1 0 0 0 1 0 1 1 0 0 1 1 0 0 1 0 1 0 1 0 0 0 0 0 1 1 0 0 1\n",
            " 0 0 1 1 0 0 1 1 0 0 0 1 0 0 0 0 1 0 0 0 0 1 1 0 0 0 1 1 1 1 0 0 1 1 0 1 0\n",
            " 1 0 0 1 0 1 0 1 0 0 0 0 1 1 1 1 0 0 1 0 0 0 1 0 1 0 1 0 0 0 0 0 0 0 0 0 0\n",
            " 1 1 1 1 0 0 1 1 1 1 0 1 0 0 1 0 1 0 0 0 0 0 0 0 0 0 0 1 0 0 1 1 0 0 0 0 0\n",
            " 0 1 1 0 0 1 0 0 1 1 0 0 1 0 1 0 0 1 0 0 1 0 0 0 0 0 0 1 1 0 1 1 0 0 1 0 1\n",
            " 1 1 0 0 0 0 0 0 0 1 0 0 1 0 0 1 1 1 0 0 0 1 0 1 0 0 0 0 1 1 0 1 1 1 0 1 0\n",
            " 1 0 1 0 0 1 0 0 0 1 0 0 0 0 0 0 1 1 1 1 1 0 0 0 1 0 1 0 1 0 1 0 0 0 0 0 1\n",
            " 0 0 0 1 1 0 0 0 0 1 0 1 0 1 1 0 1 0 0 0 0 0 0 1 0 1 0 0 0 0 0 0 0 0 0 0 0\n",
            " 1 0 0 0 0 0 0 0 1 0 1 1 1 0 0 0 0 1 1 1 1 0 0 0 0 0 0 0 1 0 1 1 0 0 1 0 0\n",
            " 0 0 0 0 0 0 0 0 0 0 1 0 1 0 1 0 1 1 0 0 0 1 0 1 0 0 1 0 1 1 0 1 0 0 0 1 0\n",
            " 0 1 0 0 1 1 0 0 0 0 0 0 0 1 0 1 0 0 0 0 0 1 1 0 0 1 0 1 0 0 1 0 1 0 0 0 0\n",
            " 1 1 0 1 1 1 0 1 0 0 0]\n"
          ]
        }
      ]
    }
  ],
  "metadata": {
    "colab": {
      "provenance": [],
      "toc_visible": true,
      "authorship_tag": "ABX9TyPGbDC11rrnRATAW9h+tWS2",
      "include_colab_link": true
    },
    "kernelspec": {
      "display_name": "Python 3",
      "name": "python3"
    },
    "language_info": {
      "name": "python"
    },
    "accelerator": "TPU"
  },
  "nbformat": 4,
  "nbformat_minor": 0
}