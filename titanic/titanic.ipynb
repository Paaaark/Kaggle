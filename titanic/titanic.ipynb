{
  "cells": [
    {
      "cell_type": "markdown",
      "metadata": {
        "id": "view-in-github",
        "colab_type": "text"
      },
      "source": [
        "<a href=\"https://colab.research.google.com/github/Paaaark/Kaggle/blob/main/titanic/titanic.ipynb\" target=\"_parent\"><img src=\"https://colab.research.google.com/assets/colab-badge.svg\" alt=\"Open In Colab\"/></a>"
      ]
    },
    {
      "cell_type": "code",
      "execution_count": 1,
      "metadata": {
        "colab": {
          "base_uri": "https://localhost:8080/"
        },
        "id": "UOfRb3wjjfGD",
        "outputId": "223618e6-7018-4200-d7f7-08bd92def3b4"
      },
      "outputs": [
        {
          "output_type": "stream",
          "name": "stdout",
          "text": [
            "Mounted at /content/drive\n"
          ]
        }
      ],
      "source": [
        "from google.colab import drive\n",
        "drive.mount('/content/drive')"
      ]
    },
    {
      "cell_type": "code",
      "execution_count": 2,
      "metadata": {
        "id": "vAbirriOkvWi"
      },
      "outputs": [],
      "source": [
        "import numpy as np\n",
        "import pandas as pd\n",
        "import matplotlib.pyplot as plt\n",
        "import tensorflow as tf\n",
        "from sklearn import preprocessing\n",
        "from sklearn import model_selection\n",
        "import csv\n",
        "from tabulate import tabulate"
      ]
    },
    {
      "cell_type": "code",
      "execution_count": 37,
      "metadata": {
        "colab": {
          "base_uri": "https://localhost:8080/"
        },
        "id": "5gDpQO6z9Cy8",
        "outputId": "f109d2be-6175-4187-91b4-e6e023e6477b"
      },
      "outputs": [
        {
          "output_type": "stream",
          "name": "stdout",
          "text": [
            "Drive already mounted at /content/drive; to attempt to forcibly remount, call drive.mount(\"/content/drive\", force_remount=True).\n"
          ]
        }
      ],
      "source": [
        "%run /content/drive/MyDrive/Kaggle/titanic/helper.ipynb"
      ]
    },
    {
      "cell_type": "code",
      "execution_count": 27,
      "metadata": {
        "id": "BZenlyipkzKd"
      },
      "outputs": [],
      "source": [
        "df = pd.read_csv('/content/drive/MyDrive/Kaggle/titanic/train.csv')\n",
        "df.head()\n",
        "COLUMNS = ['Pclass', 'Sex', 'Embarked', 'FamilySize', 'IsAlone', 'Title', 'FareBin', 'AgeBin']\n",
        "trained_models = {}"
      ]
    },
    {
      "cell_type": "markdown",
      "source": [
        "# TensorFlow Deep Neural Network"
      ],
      "metadata": {
        "id": "CV7o0Z-v9zYI"
      }
    },
    {
      "cell_type": "code",
      "execution_count": 18,
      "metadata": {
        "colab": {
          "base_uri": "https://localhost:8080/",
          "height": 520
        },
        "id": "mtjYCA8PGPTM",
        "outputId": "8190b46b-025f-4b7a-8d4e-4f80dc9ad9cd"
      },
      "outputs": [
        {
          "output_type": "stream",
          "name": "stderr",
          "text": [
            "<ipython-input-3-eb6c331e4a2c>:8: SettingWithCopyWarning: \n",
            "A value is trying to be set on a copy of a slice from a DataFrame\n",
            "\n",
            "See the caveats in the documentation: https://pandas.pydata.org/pandas-docs/stable/user_guide/indexing.html#returning-a-view-versus-a-copy\n",
            "  df['IsAlone'].loc[df['FamilySize'] > 1] = 0\n"
          ]
        },
        {
          "output_type": "display_data",
          "data": {
            "text/plain": [
              "<Figure size 640x480 with 1 Axes>"
            ],
            "image/png": "[encoded data removed]"
          },
          "metadata": {}
        }
      ],
      "source": [
        "train_x, train_y = process_and_engineer_data(df, columns=COLUMNS)\n",
        "\n",
        "model = tf.keras.Sequential()\n",
        "model.add(tf.keras.layers.Dense(units=8, activation='relu', input_shape=[8,]))\n",
        "model.add(tf.keras.layers.Dense(units=100, activation='relu'))\n",
        "model.add(tf.keras.layers.Dense(units=1, activation='relu'))\n",
        "\n",
        "model.compile(loss='binary_crossentropy', optimizer='adam', metrics=['acc'])\n",
        "hist = model.fit(train_x, train_y, epochs=30, verbose=False,\n",
        "                 validation_split=0.2)\n",
        "plt.plot(hist.history['acc'])\n",
        "plt.show()"
      ]
    },
    {
      "cell_type": "markdown",
      "source": [
        "# Scikit-learn Models Benchmark"
      ],
      "metadata": {
        "id": "5qdoLHx_-B83"
      }
    },
    {
      "cell_type": "code",
      "execution_count": 28,
      "metadata": {
        "colab": {
          "base_uri": "https://localhost:8080/"
        },
        "id": "LioMKjeCAXcW",
        "outputId": "4e36657c-bab8-4125-9a3c-517988c4f619"
      },
      "outputs": [
        {
          "output_type": "stream",
          "name": "stderr",
          "text": [
            "<ipython-input-3-eb6c331e4a2c>:8: SettingWithCopyWarning: \n",
            "A value is trying to be set on a copy of a slice from a DataFrame\n",
            "\n",
            "See the caveats in the documentation: https://pandas.pydata.org/pandas-docs/stable/user_guide/indexing.html#returning-a-view-versus-a-copy\n",
            "  df['IsAlone'].loc[df['FamilySize'] > 1] = 0\n"
          ]
        },
        {
          "output_type": "stream",
          "name": "stdout",
          "text": [
            "Random Forest\n",
            "Train Acc:  0.8132022471910112\n",
            "Test Acc:  0.8044692737430168\n",
            "Decision Tree\n",
            "Train Acc:  0.8862359550561798\n",
            "Test Acc:  0.8044692737430168\n",
            "GaussianNB\n",
            "Train Acc:  0.7907303370786517\n",
            "Test Acc:  0.7988826815642458\n",
            "K-Neighbors\n",
            "Train Acc:  0.8469101123595506\n",
            "Test Acc:  0.8435754189944135\n",
            "SVM\n",
            "Train Acc:  0.8412921348314607\n",
            "Test Acc:  0.8212290502793296\n",
            "Neural Network\n",
            "Train Acc:  0.8567415730337079\n",
            "Test Acc:  0.8044692737430168\n"
          ]
        },
        {
          "output_type": "stream",
          "name": "stderr",
          "text": [
            "/usr/local/lib/python3.10/dist-packages/sklearn/neural_network/_multilayer_perceptron.py:541: ConvergenceWarning: lbfgs failed to converge (status=1):\n",
            "STOP: TOTAL NO. of ITERATIONS REACHED LIMIT.\n",
            "\n",
            "Increase the number of iterations (max_iter) or scale the data as shown in:\n",
            "    https://scikit-learn.org/stable/modules/preprocessing.html\n",
            "  self.n_iter_ = _check_optimize_result(\"lbfgs\", opt_res, self.max_iter)\n"
          ]
        }
      ],
      "source": [
        "from sklearn.ensemble import RandomForestClassifier\n",
        "from sklearn.naive_bayes import GaussianNB\n",
        "from sklearn.tree import DecisionTreeClassifier\n",
        "from sklearn.neighbors import KNeighborsClassifier\n",
        "from sklearn.svm import SVC\n",
        "from sklearn.neural_network import MLPClassifier\n",
        "\n",
        "models = [RandomForestClassifier(max_depth=2, random_state=0),\n",
        "          DecisionTreeClassifier(random_state=0),\n",
        "          GaussianNB(),\n",
        "          KNeighborsClassifier(n_neighbors=5),\n",
        "          SVC(gamma='auto'),\n",
        "          MLPClassifier(random_state=1, max_iter=500, solver='lbfgs', early_stopping=True)]\n",
        "model_names = ['Random Forest', 'Decision Tree', 'GaussianNB', 'K-Neighbors',\n",
        "               'SVM', 'Neural Network']\n",
        "\n",
        "train_x, test_x, train_y, test_y = process_and_engineer_data(df, split_rate=0.2, columns=COLUMNS)\n",
        "for model, model_name in zip(models, model_names):\n",
        "  model = model.fit(train_x, train_y)\n",
        "  trained_models[model_name] = model\n",
        "  print(model_name)\n",
        "  print(\"Train Acc: \", model.score(train_x, train_y))\n",
        "  print(\"Test Acc: \", model.score(test_x, test_y))"
      ]
    },
    {
      "cell_type": "code",
      "source": [
        "train_x, test_x, train_y, test_y = process_and_engineer_data(df, split_rate=0.2, columns=COLUMNS)\n",
        "for n in range(2, 16):\n",
        "  model = KNeighborsClassifier(n_neighbors=n)\n",
        "  model = model.fit(train_x, train_y)\n",
        "  trained_models['KNN,N=' + str(n)] = model\n",
        "  print(n)\n",
        "  print(\"Train Acc: \", model.score(train_x, train_y))\n",
        "  print(\"Test Acc: \", model.score(test_x, test_y))"
      ],
      "metadata": {
        "colab": {
          "base_uri": "https://localhost:8080/"
        },
        "id": "PPhRqdeC6wzs",
        "outputId": "2f6d8ef3-9837-4904-af24-f7ea75c94773"
      },
      "execution_count": 41,
      "outputs": [
        {
          "output_type": "stream",
          "name": "stderr",
          "text": [
            "<ipython-input-37-7ca4cb34ae7d>:12: SettingWithCopyWarning: \n",
            "A value is trying to be set on a copy of a slice from a DataFrame\n",
            "\n",
            "See the caveats in the documentation: https://pandas.pydata.org/pandas-docs/stable/user_guide/indexing.html#returning-a-view-versus-a-copy\n",
            "  df['IsAlone'].loc[df['FamilySize'] > 1] = 0\n"
          ]
        },
        {
          "output_type": "stream",
          "name": "stdout",
          "text": [
            "2\n",
            "Train Acc:  0.8398876404494382\n",
            "Test Acc:  0.8212290502793296\n",
            "3\n",
            "Train Acc:  0.827247191011236\n",
            "Test Acc:  0.8044692737430168\n",
            "4\n",
            "Train Acc:  0.8412921348314607\n",
            "Test Acc:  0.8379888268156425\n",
            "5\n",
            "Train Acc:  0.8469101123595506\n",
            "Test Acc:  0.8435754189944135\n",
            "6\n",
            "Train Acc:  0.8384831460674157\n",
            "Test Acc:  0.8100558659217877\n",
            "7\n",
            "Train Acc:  0.8426966292134831\n",
            "Test Acc:  0.8100558659217877\n",
            "8\n",
            "Train Acc:  0.8356741573033708\n",
            "Test Acc:  0.8100558659217877\n",
            "9\n",
            "Train Acc:  0.8300561797752809\n",
            "Test Acc:  0.8100558659217877\n",
            "10\n",
            "Train Acc:  0.827247191011236\n",
            "Test Acc:  0.8100558659217877\n",
            "11\n",
            "Train Acc:  0.8286516853932584\n",
            "Test Acc:  0.8044692737430168\n",
            "12\n",
            "Train Acc:  0.8314606741573034\n",
            "Test Acc:  0.7988826815642458\n",
            "13\n",
            "Train Acc:  0.8342696629213483\n",
            "Test Acc:  0.7877094972067039\n",
            "14\n",
            "Train Acc:  0.8314606741573034\n",
            "Test Acc:  0.8100558659217877\n",
            "15\n",
            "Train Acc:  0.8286516853932584\n",
            "Test Acc:  0.8044692737430168\n"
          ]
        }
      ]
    },
    {
      "cell_type": "markdown",
      "source": [
        "# Decision Tree Models Benchmark"
      ],
      "metadata": {
        "id": "Fm9zbqMjDDUd"
      }
    },
    {
      "cell_type": "code",
      "source": [
        "train_x, test_x, train_y, test_y = process_and_engineer_data(df, split_rate=0.2, columns=COLUMNS)\n",
        "x, y = process_and_engineer_data(df, columns=COLUMNS)\n",
        "options = [\"gini\"]\n",
        "test_acc = []\n",
        "train_acc = []\n",
        "total_acc = []\n",
        "my_range = range(3, 18, 1)\n",
        "for i in my_range:\n",
        "  model = DecisionTreeClassifier(max_depth=i)\n",
        "  model = model.fit(train_x, train_y)\n",
        "  test_acc.append(model.score(test_x, test_y))\n",
        "  train_acc.append(model.score(train_x, train_y))\n",
        "  total_acc.append(model.score(x, y))\n",
        "plt.plot(my_range, train_acc)\n",
        "plt.plot(my_range, test_acc)\n",
        "plt.plot(my_range, total_acc)\n",
        "plt.title(\"Decision Tree Accuracy at Various Depths\")\n",
        "plt.legend(['Train Acc', 'Test Acc', 'Total Acc'])"
      ],
      "metadata": {
        "colab": {
          "base_uri": "https://localhost:8080/",
          "height": 650
        },
        "id": "V3QiAdn0DI5K",
        "outputId": "1e5f583f-2510-4440-873d-8350de9889d4"
      },
      "execution_count": 22,
      "outputs": [
        {
          "output_type": "stream",
          "name": "stderr",
          "text": [
            "<ipython-input-3-eb6c331e4a2c>:8: SettingWithCopyWarning: \n",
            "A value is trying to be set on a copy of a slice from a DataFrame\n",
            "\n",
            "See the caveats in the documentation: https://pandas.pydata.org/pandas-docs/stable/user_guide/indexing.html#returning-a-view-versus-a-copy\n",
            "  df['IsAlone'].loc[df['FamilySize'] > 1] = 0\n",
            "<ipython-input-3-eb6c331e4a2c>:8: SettingWithCopyWarning: \n",
            "A value is trying to be set on a copy of a slice from a DataFrame\n",
            "\n",
            "See the caveats in the documentation: https://pandas.pydata.org/pandas-docs/stable/user_guide/indexing.html#returning-a-view-versus-a-copy\n",
            "  df['IsAlone'].loc[df['FamilySize'] > 1] = 0\n"
          ]
        },
        {
          "output_type": "execute_result",
          "data": {
            "text/plain": [
              "<matplotlib.legend.Legend at 0x7de0abc6b3d0>"
            ]
          },
          "metadata": {},
          "execution_count": 22
        },
        {
          "output_type": "display_data",
          "data": {
            "text/plain": [
              "<Figure size 640x480 with 1 Axes>"
            ],
            "image/png": "[encoded data removed]"
          },
          "metadata": {}
        }
      ]
    },
    {
      "cell_type": "code",
      "source": [
        "train_x, test_x, train_y, test_y = process_and_engineer_data(df, split_rate=0.2, columns=COLUMNS)\n",
        "x, y = process_and_engineer_data(df, columns=COLUMNS)\n",
        "options = [\"gini\"]\n",
        "test_acc = []\n",
        "train_acc = []\n",
        "total_acc = []\n",
        "my_range = range(1, 30, 2)\n",
        "for i in my_range:\n",
        "  model = DecisionTreeClassifier(min_samples_leaf=i)\n",
        "  model = model.fit(train_x, train_y)\n",
        "  test_acc.append(model.score(test_x, test_y))\n",
        "  train_acc.append(model.score(train_x, train_y))\n",
        "  total_acc.append(model.score(x, y))\n",
        "plt.plot(my_range, train_acc)\n",
        "plt.plot(my_range, test_acc)\n",
        "plt.plot(my_range, total_acc)\n",
        "plt.title(\"Decision Tree Accuracy at Various min_samples_leaf\")\n",
        "plt.legend(['Train Acc', 'Test Acc', 'Total Acc'])"
      ],
      "metadata": {
        "colab": {
          "base_uri": "https://localhost:8080/",
          "height": 650
        },
        "id": "kRV2O3mv9m7k",
        "outputId": "282821f6-7ae2-4a6b-db1d-cecc36a5d256"
      },
      "execution_count": 23,
      "outputs": [
        {
          "output_type": "stream",
          "name": "stderr",
          "text": [
            "<ipython-input-3-eb6c331e4a2c>:8: SettingWithCopyWarning: \n",
            "A value is trying to be set on a copy of a slice from a DataFrame\n",
            "\n",
            "See the caveats in the documentation: https://pandas.pydata.org/pandas-docs/stable/user_guide/indexing.html#returning-a-view-versus-a-copy\n",
            "  df['IsAlone'].loc[df['FamilySize'] > 1] = 0\n",
            "<ipython-input-3-eb6c331e4a2c>:8: SettingWithCopyWarning: \n",
            "A value is trying to be set on a copy of a slice from a DataFrame\n",
            "\n",
            "See the caveats in the documentation: https://pandas.pydata.org/pandas-docs/stable/user_guide/indexing.html#returning-a-view-versus-a-copy\n",
            "  df['IsAlone'].loc[df['FamilySize'] > 1] = 0\n"
          ]
        },
        {
          "output_type": "execute_result",
          "data": {
            "text/plain": [
              "<matplotlib.legend.Legend at 0x7de0ab731e40>"
            ]
          },
          "metadata": {},
          "execution_count": 23
        },
        {
          "output_type": "display_data",
          "data": {
            "text/plain": [
              "<Figure size 640x480 with 1 Axes>"
            ],
            "image/png": "[encoded data removed]"
          },
          "metadata": {}
        }
      ]
    },
    {
      "cell_type": "code",
      "source": [
        "train_x, test_x, train_y, test_y = process_and_engineer_data(df, split_rate=0.2, columns=COLUMNS)\n",
        "x, y = process_and_engineer_data(df, columns=COLUMNS)\n",
        "options = [\"gini\"]\n",
        "acc = {}\n",
        "depth_range = range(3, 17, 1)\n",
        "leaf_range = range(1, 10, 1)\n",
        "for depth in depth_range:\n",
        "  for leaf in leaf_range:\n",
        "    model = DecisionTreeClassifier(max_depth=depth, min_samples_leaf=leaf)\n",
        "    model = model.fit(train_x, train_y)\n",
        "    scores = [model.score(train_x, train_y), model.score(test_x, test_y),\n",
        "              model.score(x, y)]\n",
        "    key = '(' + str(depth) + ', ' + str(leaf) + ')'\n",
        "    acc[key] = scores\n",
        "    trained_models[key] = model\n",
        "acc = sorted(acc.items(), key=lambda x:x[1][2], reverse=True)\n",
        "to_table = []\n",
        "for data in acc:\n",
        "  to_table.append([data[0], data[1][0], data[1][1], data[1][2]])\n",
        "print(\"Decision Tree Accuracy at Various max_depth and min_samples_leaf\")\n",
        "print(\"Sorted by high to low accuracy\")\n",
        "print(tabulate(to_table, headers=['(depth, leaf)', 'train_acc', 'test_acc', 'acc']))\n",
        "# plt.plot(my_range, train_acc)\n",
        "# plt.plot(my_range, test_acc)\n",
        "# plt.plot(my_range, total_acc)\n",
        "# plt.title(\"Decision Tree Accuracy at Various min_samples_leaf\")\n",
        "# plt.legend(['Train Acc', 'Test Acc', 'Total Acc'])"
      ],
      "metadata": {
        "colab": {
          "base_uri": "https://localhost:8080/"
        },
        "id": "jVB8G2LJBkRw",
        "outputId": "b1443fd3-b547-499d-a632-4a7fbc0dedee"
      },
      "execution_count": 47,
      "outputs": [
        {
          "output_type": "stream",
          "name": "stderr",
          "text": [
            "<ipython-input-37-7ca4cb34ae7d>:12: SettingWithCopyWarning: \n",
            "A value is trying to be set on a copy of a slice from a DataFrame\n",
            "\n",
            "See the caveats in the documentation: https://pandas.pydata.org/pandas-docs/stable/user_guide/indexing.html#returning-a-view-versus-a-copy\n",
            "  df['IsAlone'].loc[df['FamilySize'] > 1] = 0\n",
            "<ipython-input-37-7ca4cb34ae7d>:12: SettingWithCopyWarning: \n",
            "A value is trying to be set on a copy of a slice from a DataFrame\n",
            "\n",
            "See the caveats in the documentation: https://pandas.pydata.org/pandas-docs/stable/user_guide/indexing.html#returning-a-view-versus-a-copy\n",
            "  df['IsAlone'].loc[df['FamilySize'] > 1] = 0\n"
          ]
        },
        {
          "output_type": "stream",
          "name": "stdout",
          "text": [
            "Decision Tree Accuracy at Various max_depth and min_samples_leaf\n",
            "Sorted by high to low accuracy\n",
            "(depth, leaf)      train_acc    test_acc       acc\n",
            "---------------  -----------  ----------  --------\n",
            "(13, 1)             0.886236    0.804469  0.869809\n",
            "(14, 1)             0.886236    0.804469  0.869809\n",
            "(15, 1)             0.886236    0.804469  0.869809\n",
            "(16, 1)             0.886236    0.793296  0.867565\n",
            "(12, 1)             0.886236    0.787709  0.866442\n",
            "(10, 1)             0.879213    0.804469  0.864198\n",
            "(11, 1)             0.884831    0.776536  0.863075\n",
            "(9, 1)              0.872191    0.815642  0.860831\n",
            "(8, 1)              0.866573    0.821229  0.857464\n",
            "(6, 1)              0.856742    0.843575  0.854097\n",
            "(7, 1)              0.860955    0.821229  0.852974\n",
            "(7, 2)              0.852528    0.843575  0.85073\n",
            "(10, 2)             0.858146    0.815642  0.849607\n",
            "(11, 2)             0.858146    0.815642  0.849607\n",
            "(12, 2)             0.858146    0.815642  0.849607\n",
            "(13, 2)             0.858146    0.815642  0.849607\n",
            "(14, 2)             0.858146    0.815642  0.849607\n",
            "(15, 2)             0.858146    0.815642  0.849607\n",
            "(16, 2)             0.858146    0.815642  0.849607\n",
            "(7, 3)              0.851124    0.837989  0.848485\n",
            "(7, 4)              0.851124    0.837989  0.848485\n",
            "(8, 2)              0.855337    0.821229  0.848485\n",
            "(9, 2)              0.856742    0.815642  0.848485\n",
            "(9, 3)              0.855337    0.821229  0.848485\n",
            "(10, 3)             0.855337    0.821229  0.848485\n",
            "(11, 3)             0.855337    0.821229  0.848485\n",
            "(12, 3)             0.855337    0.821229  0.848485\n",
            "(13, 3)             0.855337    0.821229  0.848485\n",
            "(14, 3)             0.855337    0.821229  0.848485\n",
            "(15, 3)             0.855337    0.821229  0.848485\n",
            "(16, 3)             0.855337    0.821229  0.848485\n",
            "(7, 5)              0.84691     0.849162  0.847363\n",
            "(8, 4)              0.855337    0.815642  0.847363\n",
            "(8, 5)              0.851124    0.832402  0.847363\n",
            "(9, 4)              0.855337    0.815642  0.847363\n",
            "(9, 5)              0.851124    0.832402  0.847363\n",
            "(10, 4)             0.855337    0.815642  0.847363\n",
            "(10, 5)             0.851124    0.832402  0.847363\n",
            "(11, 4)             0.855337    0.815642  0.847363\n",
            "(11, 5)             0.851124    0.832402  0.847363\n",
            "(12, 4)             0.855337    0.815642  0.847363\n",
            "(12, 5)             0.851124    0.832402  0.847363\n",
            "(13, 4)             0.855337    0.815642  0.847363\n",
            "(13, 5)             0.851124    0.832402  0.847363\n",
            "(14, 4)             0.855337    0.815642  0.847363\n",
            "(14, 5)             0.851124    0.832402  0.847363\n",
            "(15, 4)             0.855337    0.815642  0.847363\n",
            "(15, 5)             0.851124    0.832402  0.847363\n",
            "(16, 4)             0.855337    0.815642  0.847363\n",
            "(16, 5)             0.851124    0.832402  0.847363\n",
            "(6, 2)              0.848315    0.837989  0.84624\n",
            "(7, 6)              0.845506    0.849162  0.84624\n",
            "(7, 7)              0.845506    0.849162  0.84624\n",
            "(8, 3)              0.853933    0.815642  0.84624\n",
            "(8, 6)              0.849719    0.832402  0.84624\n",
            "(9, 6)              0.849719    0.832402  0.84624\n",
            "(10, 6)             0.849719    0.832402  0.84624\n",
            "(11, 6)             0.849719    0.832402  0.84624\n",
            "(12, 6)             0.849719    0.832402  0.84624\n",
            "(13, 6)             0.849719    0.832402  0.84624\n",
            "(14, 6)             0.849719    0.832402  0.84624\n",
            "(15, 6)             0.849719    0.832402  0.84624\n",
            "(16, 6)             0.849719    0.832402  0.84624\n",
            "(6, 3)              0.84691     0.832402  0.843996\n",
            "(6, 4)              0.84691     0.832402  0.843996\n",
            "(8, 7)              0.84691     0.832402  0.843996\n",
            "(9, 7)              0.84691     0.832402  0.843996\n",
            "(10, 7)             0.84691     0.832402  0.843996\n",
            "(11, 7)             0.84691     0.832402  0.843996\n",
            "(12, 7)             0.84691     0.832402  0.843996\n",
            "(13, 7)             0.84691     0.832402  0.843996\n",
            "(14, 7)             0.84691     0.832402  0.843996\n",
            "(15, 7)             0.84691     0.832402  0.843996\n",
            "(16, 7)             0.84691     0.832402  0.843996\n",
            "(6, 5)              0.844101    0.837989  0.842873\n",
            "(6, 6)              0.844101    0.837989  0.842873\n",
            "(6, 7)              0.844101    0.837989  0.842873\n",
            "(4, 1)              0.845506    0.826816  0.841751\n",
            "(5, 1)              0.84691     0.821229  0.841751\n",
            "(4, 2)              0.844101    0.826816  0.840629\n",
            "(4, 3)              0.844101    0.826816  0.840629\n",
            "(4, 4)              0.844101    0.826816  0.840629\n",
            "(4, 5)              0.844101    0.826816  0.840629\n",
            "(4, 6)              0.844101    0.826816  0.840629\n",
            "(4, 7)              0.844101    0.826816  0.840629\n",
            "(5, 2)              0.844101    0.826816  0.840629\n",
            "(5, 3)              0.844101    0.826816  0.840629\n",
            "(5, 4)              0.844101    0.826816  0.840629\n",
            "(5, 5)              0.844101    0.826816  0.840629\n",
            "(5, 6)              0.844101    0.826816  0.840629\n",
            "(5, 7)              0.844101    0.826816  0.840629\n",
            "(7, 8)              0.844101    0.826816  0.840629\n",
            "(7, 9)              0.844101    0.826816  0.840629\n",
            "(8, 8)              0.844101    0.826816  0.840629\n",
            "(8, 9)              0.844101    0.826816  0.840629\n",
            "(9, 8)              0.844101    0.826816  0.840629\n",
            "(9, 9)              0.844101    0.826816  0.840629\n",
            "(10, 8)             0.844101    0.826816  0.840629\n",
            "(10, 9)             0.844101    0.826816  0.840629\n",
            "(11, 8)             0.844101    0.826816  0.840629\n",
            "(11, 9)             0.844101    0.826816  0.840629\n",
            "(12, 8)             0.844101    0.826816  0.840629\n",
            "(12, 9)             0.844101    0.826816  0.840629\n",
            "(13, 8)             0.844101    0.826816  0.840629\n",
            "(13, 9)             0.844101    0.826816  0.840629\n",
            "(14, 8)             0.844101    0.826816  0.840629\n",
            "(14, 9)             0.844101    0.826816  0.840629\n",
            "(15, 8)             0.844101    0.826816  0.840629\n",
            "(15, 9)             0.844101    0.826816  0.840629\n",
            "(16, 8)             0.844101    0.826816  0.840629\n",
            "(16, 9)             0.844101    0.826816  0.840629\n",
            "(6, 8)              0.842697    0.815642  0.837262\n",
            "(6, 9)              0.842697    0.815642  0.837262\n",
            "(4, 8)              0.842697    0.804469  0.835017\n",
            "(4, 9)              0.842697    0.804469  0.835017\n",
            "(5, 8)              0.842697    0.804469  0.835017\n",
            "(5, 9)              0.842697    0.804469  0.835017\n",
            "(3, 1)              0.83427     0.810056  0.829405\n",
            "(3, 2)              0.83427     0.810056  0.829405\n",
            "(3, 3)              0.83427     0.810056  0.829405\n",
            "(3, 4)              0.83427     0.810056  0.829405\n",
            "(3, 5)              0.83427     0.810056  0.829405\n",
            "(3, 6)              0.83427     0.810056  0.829405\n",
            "(3, 7)              0.83427     0.810056  0.829405\n",
            "(3, 8)              0.83427     0.810056  0.829405\n",
            "(3, 9)              0.83427     0.810056  0.829405\n"
          ]
        }
      ]
    },
    {
      "cell_type": "markdown",
      "source": [
        "# Manual Decision Tree"
      ],
      "metadata": {
        "id": "Xhb_JA8k6IjH"
      }
    },
    {
      "cell_type": "markdown",
      "source": [
        "From 5 categorical data, get every unique combinations. For each combination, count the number of survived and dead.\n",
        "Predict any person with such combination to survived if more of that category survived, otherwise dead."
      ],
      "metadata": {
        "id": "cciWXdDX_dwr"
      }
    },
    {
      "cell_type": "code",
      "source": [
        "X, y = process_data(df, drop_columns=['Embarked'])\n",
        "\n",
        "def get_key(my_list):\n",
        "  result = \"\"\n",
        "  for i in range(len(my_list) - 1):\n",
        "    result = result + str(int(my_list[i]))\n",
        "  fare = str(int(round(my_list[len(my_list) - 1] + 1, 1) * 10))\n",
        "  if len(fare) == 1:\n",
        "    fare = '0' + fare\n",
        "  result = result + fare\n",
        "  return result\n",
        "\n",
        "unique = {}\n",
        "for i in range(len(X)):\n",
        "  key = get_key(X[i].numpy().tolist())\n",
        "  if key in unique.keys():\n",
        "    unique[key][y[i]] += 1\n",
        "  else:\n",
        "    unique[key] = [0, 0]\n",
        "    unique[key][y[i]] += 1\n",
        "\n",
        "score = [0, 0]\n",
        "answer_key = {}\n",
        "for key in unique.keys():\n",
        "  correct = max(unique[key])\n",
        "  wrong = min(unique[key])\n",
        "  score[0] += correct\n",
        "  score[1] += wrong\n",
        "  if unique[key][0] > unique[key][1]:\n",
        "    answer_key[key] = 0\n",
        "  else:\n",
        "    answer_key[key] = 1\n",
        "print(score)\n",
        "print(answer_key)"
      ],
      "metadata": {
        "colab": {
          "base_uri": "https://localhost:8080/"
        },
        "id": "1AwLlcRY6NeL",
        "outputId": "9ca1ee0b-108a-451e-c367-76c582cb715c"
      },
      "execution_count": null,
      "outputs": [
        {
          "output_type": "stream",
          "name": "stdout",
          "text": [
            "[770, 121]\n",
            "{'301003': 0, '111026': 1, '310003': 1, '111020': 1, '300003': 0, '100019': 0, '303108': 0, '310204': 1, '211011': 1, '311106': 0, '110010': 1, '301512': 0, '210006': 1, '304111': 0, '200005': 0, '311007': 0, '200010': 0, '100013': 0, '313108': 0, '311512': 1, '103237': 0, '100010': 0, '111037': 1, '200004': 0, '101030': 0, '101019': 1, '312007': 0, '311004': 0, '211008': 0, '211215': 1, '301006': 0, '302008': 0, '304115': 0, '111028': 1, '211010': 1, '100123': 0, '210004': 1, '211210': 1, '305217': 0, '110029': 1, '101031': 0, '303210': 0, '301106': 1, '314203': 1, '302003': 0, '315217': 0, '200027': 0, '301005': 0, '300021': 1, '200211': 1, '310005': 1, '300004': 0, '100017': 0, '313006': 1, '301313': 0, '113237': 1, '101023': 0, '301208': 1, '210109': 1, '201010': 0, '100128': 0, '311009': 1, '311005': 0, '201008': 0, '100137': 0, '314212': 0, '202027': 0, '201011': 0, '210005': 1, '301004': 1, '311108': 1, '200006': 0, '110210': 1, '101020': 1, '100029': 0, '310206': 1, '311006': 1, '201114': 0, '312213': 0, '200210': 0, '111024': 1, '300205': 0, '308226': 0, '300106': 0, '300208': 1, '110120': 1, '311410': 0, '100012': 0, '311104': 1, '100011': 1, '301103': 0, '303109': 0, '110011': 1, '300000': 0, '318226': 0, '304212': 0, '202114': 1, '310208': 1, '100018': 0, '311003': 1, '201110': 1, '110037': 1, '300103': 1, '300002': 0, '310104': 1, '300007': 1, '210008': 1, '110028': 1, '101033': 1, '313109': 0, '111031': 1, '210210': 1, '102033': 0, '210205': 1, '101119': 1, '110032': 1, '210110': 1, '101129': 1, '100000': 0, '110137': 1, '210107': 1, '100111': 0, '111029': 1, '200000': 0, '111033': 1, '111237': 1, '302009': 1, '101237': 1, '201009': 0, '110021': 1, '110031': 1, '112237': 1, '211110': 1, '110237': 1, '111137': 1, '211111': 1, '110121': 1, '312009': 1, '302007': 0, '101024': 0, '301007': 0, '301410': 0, '310105': 1, '110025': 1, '301002': 0, '100037': 0, '111030': 1, '100237': 0, '111019': 1, '201107': 1, '211112': 1, '310209': 0, '311105': 0, '301108': 0, '210010': 1, '101021': 1, '212307': 1, '101437': 0, '100230': 1, '312107': 1, '201210': 0, '100014': 0, '310004': 0, '300005': 0, '300006': 0, '101037': 0, '300008': 0, '111022': 1, '300009': 0, '110034': 1, '202104': 0, '110218': 1, '110226': 1, '111015': 1, '111129': 1, '310408': 0, '112019': 1, '111021': 1, '100015': 0, '110229': 1, '310203': 0, '301109': 0, '210012': 1, '212110': 1, '100016': 0, '211224': 1, '301105': 0, '212114': 1, '313210': 0, '310515': 0, '101028': 1, '102037': 1, '100009': 0, '211114': 1, '311617': 0, '100028': 1, '201215': 0, '101137': 0, '110018': 1, '210112': 1, '213008': 1, '311313': 0, '101029': 0, '101126': 0, '211109': 1, '300105': 1, '201105': 1, '301009': 0, '211309': 1, '301209': 0, '311109': 0, '111134': 1, '200214': 1, '111131': 1, '200112': 0, '110115': 1, '310307': 1, '302005': 0, '201004': 0, '211005': 1, '301104': 1, '111119': 1, '100002': 0, '211009': 1, '110131': 1, '310511': 0, '311209': 0}\n"
          ]
        }
      ]
    },
    {
      "cell_type": "code",
      "source": [
        "# Test the data using the algorithm above\n",
        "test_df = pd.read_csv('/content/drive/MyDrive/Kaggle/titanic/test.csv')\n",
        "\n",
        "test = process_data(test_df, drop_columns=['Embarked'])\n",
        "ans = []\n",
        "for i in range(len(test)):\n",
        "  key = get_key(test[i].numpy().tolist())\n",
        "  if key not in answer_key:\n",
        "    counter = 1\n",
        "    while True:\n",
        "      left = str(int(key) - counter)\n",
        "      right = str(int(key) + counter)\n",
        "      if left in answer_key:\n",
        "        key = left\n",
        "        break\n",
        "      if right in answer_key:\n",
        "        key = right\n",
        "        break\n",
        "      counter += 1\n",
        "  ans.append(answer_key[key])\n",
        "\n",
        "print(len(ans))\n",
        "write_prediction(ans, 'ManualTreeWithFare')"
      ],
      "metadata": {
        "colab": {
          "base_uri": "https://localhost:8080/"
        },
        "id": "FecM30Ah-ZdN",
        "outputId": "d3994a67-d0af-4a71-9e5f-1c701b47e1a6"
      },
      "execution_count": null,
      "outputs": [
        {
          "output_type": "stream",
          "name": "stdout",
          "text": [
            "418\n"
          ]
        }
      ]
    },
    {
      "cell_type": "code",
      "source": [
        "from sklearn.decomposition import PCA\n",
        "train_x, test_x, train_y, test_y = process_data(df, 0.2)\n",
        "\n",
        "pca = PCA()\n",
        "pca.fit(train_x)\n",
        "print(pca.explained_variance_ratio_)\n",
        "print(train_x)"
      ],
      "metadata": {
        "colab": {
          "base_uri": "https://localhost:8080/"
        },
        "id": "MupeMvuO6sWH",
        "outputId": "55b121c4-41c7-4672-b55f-27ec7be10486"
      },
      "execution_count": null,
      "outputs": [
        {
          "output_type": "stream",
          "name": "stdout",
          "text": [
            "[0.41031488 0.27965333 0.1153202  0.10511885 0.04941706 0.04017568]\n",
            "tf.Tensor(\n",
            "[[ 3.          0.          0.          0.         -0.70621053  2.        ]\n",
            " [ 2.          0.          0.          0.         -0.53769158  2.        ]\n",
            " [ 3.          0.          0.          0.         -0.7065146   2.        ]\n",
            " ...\n",
            " [ 3.          0.          0.          0.         -0.70621053  2.        ]\n",
            " [ 2.          0.          1.          1.         -0.03762989  0.        ]\n",
            " [ 1.          1.          1.          1.          2.67332724  0.        ]], shape=(712, 6), dtype=float64)\n"
          ]
        }
      ]
    },
    {
      "cell_type": "code",
      "source": [
        "from sklearn.model_selection import cross_val_score, cross_validate\n",
        "\n",
        "train_x, test_x, train_y, test_y = process_data(df, split_rate=0.2)\n",
        "# print(train_x)\n",
        "model = DecisionTreeClassifier(max_depth=10)\n",
        "# model = model.fit(train_x, train_y)\n",
        "models = cross_validate(model, train_x, train_y)"
      ],
      "metadata": {
        "id": "QebbZsUnOTIL"
      },
      "execution_count": null,
      "outputs": []
    },
    {
      "cell_type": "code",
      "source": [
        "trained_models.keys()"
      ],
      "metadata": {
        "colab": {
          "base_uri": "https://localhost:8080/"
        },
        "id": "p8Zc-7c4y4KT",
        "outputId": "0fb6e6e8-c37a-476f-b879-a9e0d6e58ddb"
      },
      "execution_count": 49,
      "outputs": [
        {
          "output_type": "execute_result",
          "data": {
            "text/plain": [
              "dict_keys(['Random Forest', 'Decision Tree', 'GaussianNB', 'K-Neighbors', 'SVM', 'Neural Network', ('KNN,N=', '2'), ('KNN,N=', '3'), ('KNN,N=', '4'), ('KNN,N=', '5'), ('KNN,N=', '6'), ('KNN,N=', '7'), ('KNN,N=', '8'), ('KNN,N=', '9'), ('KNN,N=', '10'), ('KNN,N=', '11'), ('KNN,N=', '12'), ('KNN,N=', '13'), ('KNN,N=', '14'), ('KNN,N=', '15'), 'KNN,N=2', 'KNN,N=3', 'KNN,N=4', 'KNN,N=5', 'KNN,N=6', 'KNN,N=7', 'KNN,N=8', 'KNN,N=9', 'KNN,N=10', 'KNN,N=11', 'KNN,N=12', 'KNN,N=13', 'KNN,N=14', 'KNN,N=15', '(3, 1)', '(3, 2)', '(3, 3)', '(3, 4)', '(3, 5)', '(3, 6)', '(3, 7)', '(3, 8)', '(3, 9)', '(4, 1)', '(4, 2)', '(4, 3)', '(4, 4)', '(4, 5)', '(4, 6)', '(4, 7)', '(4, 8)', '(4, 9)', '(5, 1)', '(5, 2)', '(5, 3)', '(5, 4)', '(5, 5)', '(5, 6)', '(5, 7)', '(5, 8)', '(5, 9)', '(6, 1)', '(6, 2)', '(6, 3)', '(6, 4)', '(6, 5)', '(6, 6)', '(6, 7)', '(6, 8)', '(6, 9)', '(7, 1)', '(7, 2)', '(7, 3)', '(7, 4)', '(7, 5)', '(7, 6)', '(7, 7)', '(7, 8)', '(7, 9)', '(8, 1)', '(8, 2)', '(8, 3)', '(8, 4)', '(8, 5)', '(8, 6)', '(8, 7)', '(8, 8)', '(8, 9)', '(9, 1)', '(9, 2)', '(9, 3)', '(9, 4)', '(9, 5)', '(9, 6)', '(9, 7)', '(9, 8)', '(9, 9)', '(10, 1)', '(10, 2)', '(10, 3)', '(10, 4)', '(10, 5)', '(10, 6)', '(10, 7)', '(10, 8)', '(10, 9)', '(11, 1)', '(11, 2)', '(11, 3)', '(11, 4)', '(11, 5)', '(11, 6)', '(11, 7)', '(11, 8)', '(11, 9)', '(12, 1)', '(12, 2)', '(12, 3)', '(12, 4)', '(12, 5)', '(12, 6)', '(12, 7)', '(12, 8)', '(12, 9)', '(13, 1)', '(13, 2)', '(13, 3)', '(13, 4)', '(13, 5)', '(13, 6)', '(13, 7)', '(13, 8)', '(13, 9)', '(14, 1)', '(14, 2)', '(14, 3)', '(14, 4)', '(14, 5)', '(14, 6)', '(14, 7)', '(14, 8)', '(14, 9)', '(15, 1)', '(15, 2)', '(15, 3)', '(15, 4)', '(15, 5)', '(15, 6)', '(15, 7)', '(15, 8)', '(15, 9)', '(16, 1)', '(16, 2)', '(16, 3)', '(16, 4)', '(16, 5)', '(16, 6)', '(16, 7)', '(16, 8)', '(16, 9)'])"
            ]
          },
          "metadata": {},
          "execution_count": 49
        }
      ]
    },
    {
      "cell_type": "code",
      "source": [
        "test_df = pd.read_csv('/content/drive/MyDrive/Kaggle/titanic/test.csv')\n",
        "\n",
        "test, y = process_and_engineer_data(test_df, columns=COLUMNS)\n",
        "desired_model = trained_models['KNN,N=4']\n",
        "prediction = desired_model.predict(test)\n",
        "print(prediction)\n",
        "write_prediction(prediction, 'KNN,N=4')"
      ],
      "metadata": {
        "colab": {
          "base_uri": "https://localhost:8080/"
        },
        "id": "up3lVQTYKAdV",
        "outputId": "0cc03e74-401f-496a-ad55-9bdbd21c8066"
      },
      "execution_count": 51,
      "outputs": [
        {
          "output_type": "stream",
          "name": "stderr",
          "text": [
            "<ipython-input-37-7ca4cb34ae7d>:12: SettingWithCopyWarning: \n",
            "A value is trying to be set on a copy of a slice from a DataFrame\n",
            "\n",
            "See the caveats in the documentation: https://pandas.pydata.org/pandas-docs/stable/user_guide/indexing.html#returning-a-view-versus-a-copy\n",
            "  df['IsAlone'].loc[df['FamilySize'] > 1] = 0\n"
          ]
        },
        {
          "output_type": "stream",
          "name": "stdout",
          "text": [
            "[0 0 0 0 1 0 0 1 1 1 0 0 1 1 1 1 0 1 1 0 0 1 1 1 1 1 0 1 0 1 1 1 0 1 0 1 0\n",
            " 0 0 0 1 0 0 1 1 0 0 1 1 1 1 0 1 1 0 0 0 0 1 0 0 0 0 1 1 1 1 1 1 1 1 0 0 1\n",
            " 0 1 0 1 0 1 0 1 0 0 0 1 1 0 1 0 0 0 1 0 0 0 1 0 0 0 1 1 1 0 1 0 1 1 0 1 0\n",
            " 1 0 1 1 1 1 1 1 1 0 1 1 0 1 1 0 0 0 0 0 0 0 1 0 0 1 0 0 0 0 0 1 0 0 1 0 0\n",
            " 0 1 1 1 1 0 0 0 0 0 0 1 1 0 0 0 1 1 1 0 1 0 0 1 1 1 0 1 0 0 1 1 0 1 1 1 1\n",
            " 0 1 1 0 0 0 0 0 0 0 0 0 0 1 0 0 1 0 1 0 0 0 0 0 0 0 0 1 1 0 1 1 0 1 0 0 0\n",
            " 1 0 0 1 0 1 0 0 1 0 1 1 0 0 0 1 1 1 0 1 1 0 0 1 1 0 1 1 1 0 1 0 0 0 1 0 0\n",
            " 0 1 0 1 1 0 0 0 0 0 0 1 1 1 0 1 1 0 1 0 1 0 1 1 1 1 0 0 1 1 0 0 0 1 0 0 0\n",
            " 1 1 0 0 0 0 1 0 1 1 1 1 0 0 0 1 0 0 1 1 0 1 0 1 0 1 0 0 1 0 1 1 0 1 1 0 1\n",
            " 1 0 0 0 1 0 0 1 0 0 1 0 0 0 0 0 0 1 0 1 0 1 0 1 0 1 1 0 1 1 0 1 0 1 1 1 0\n",
            " 1 0 0 0 1 0 1 1 1 0 1 1 0 1 0 1 0 0 1 0 1 1 0 0 0 1 1 1 0 0 0 1 0 1 0 1 1\n",
            " 1 1 1 1 1 0 0 0 0 0 0]\n"
          ]
        }
      ]
    }
  ],
  "metadata": {
    "colab": {
      "provenance": [],
      "toc_visible": true,
      "authorship_tag": "ABX9TyP9uSaM3+uEta6kxTW1BEiX",
      "include_colab_link": true
    },
    "kernelspec": {
      "display_name": "Python 3",
      "name": "python3"
    },
    "language_info": {
      "name": "python"
    },
    "accelerator": "TPU"
  },
  "nbformat": 4,
  "nbformat_minor": 0
}