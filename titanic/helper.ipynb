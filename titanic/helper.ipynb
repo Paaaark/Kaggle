{
  "nbformat": 4,
  "nbformat_minor": 0,
  "metadata": {
    "colab": {
      "provenance": [],
      "authorship_tag": "ABX9TyPbYUokciCt3rbce+bV9CQU",
      "include_colab_link": true
    },
    "kernelspec": {
      "name": "python3",
      "display_name": "Python 3"
    },
    "language_info": {
      "name": "python"
    }
  },
  "cells": [
    {
      "cell_type": "markdown",
      "metadata": {
        "id": "view-in-github",
        "colab_type": "text"
      },
      "source": [
        "<a href=\"https://colab.research.google.com/github/Paaaark/Kaggle/blob/main/titanic/helper.ipynb\" target=\"_parent\"><img src=\"https://colab.research.google.com/assets/colab-badge.svg\" alt=\"Open In Colab\"/></a>"
      ]
    },
    {
      "cell_type": "code",
      "source": [
        "import numpy as np\n",
        "import pandas as pd\n",
        "import matplotlib.pyplot as plt\n",
        "import tensorflow as tf\n",
        "from sklearn import preprocessing\n",
        "import sklearn\n",
        "import csv\n",
        "from collections import defaultdict"
      ],
      "metadata": {
        "id": "vAbirriOkvWi"
      },
      "execution_count": null,
      "outputs": []
    },
    {
      "cell_type": "code",
      "execution_count": null,
      "metadata": {
        "id": "UOfRb3wjjfGD",
        "colab": {
          "base_uri": "https://localhost:8080/"
        },
        "outputId": "4b3ab275-9b00-467d-c339-483244fcc285"
      },
      "outputs": [
        {
          "output_type": "stream",
          "name": "stdout",
          "text": [
            "Mounted at /content/drive\n"
          ]
        }
      ],
      "source": [
        "from google.colab import drive\n",
        "drive.mount('/content/drive')"
      ]
    },
    {
      "cell_type": "code",
      "source": [
        "def process_for_graphs(df):\n",
        "  # Fill nan values with 0\n",
        "  for key in df.keys():\n",
        "    df[key] = df[key].fillna(0)\n",
        "\n",
        "  survival_rate = {}\n",
        "  for key in df.keys():\n",
        "    if key in ['PassengerId', 'Survived', 'Name', 'Ticket', 'Cabin']:\n",
        "      continue\n",
        "    survival_rate[key] = {};\n",
        "    for ind in df.index:\n",
        "      if df[key][ind] in survival_rate[key]:\n",
        "        survival_rate[key][df[key][ind]][df['Survived'][ind]] += 1\n",
        "      else:\n",
        "        survival_rate[key][df[key][ind]] = [0, 0]\n",
        "        survival_rate[key][df[key][ind]][df['Survived'][ind]] += 1\n",
        "\n",
        "  age_count = {}\n",
        "  for i in range(0, 80, 10):\n",
        "    age_count[i] = [0, 0]\n",
        "  for entry in survival_rate['Age'].keys():\n",
        "    age = int(entry / 10) * 10\n",
        "    if age > 70:\n",
        "      age = 70\n",
        "    age_count[age][0] += survival_rate['Age'][entry][0]\n",
        "    age_count[age][1] += survival_rate['Age'][entry][1]\n",
        "  survival_rate['Age'] = age_count\n",
        "\n",
        "  fare_count = {}\n",
        "  for i in range(0, 120, 20):\n",
        "    fare_count[i] = [0, 0]\n",
        "  for entry in survival_rate['Fare'].keys():\n",
        "    fare = int(entry / 20) * 20\n",
        "    if fare > 100:\n",
        "      fare = 100\n",
        "    fare_count[fare][0] += survival_rate['Fare'][entry][0]\n",
        "    fare_count[fare][1] += survival_rate['Fare'][entry][1]\n",
        "  survival_rate['Fare'] = fare_count\n",
        "\n",
        "  return survival_rate"
      ],
      "metadata": {
        "id": "ZV8oTUe_hrGc"
      },
      "execution_count": null,
      "outputs": []
    },
    {
      "cell_type": "code",
      "source": [
        " def graph_data(survival_rate):\n",
        "  fix, axes = plt.subplots(4, 2, figsize=(10, 9))\n",
        "  keys = survival_rate.keys()\n",
        "  counter = 0\n",
        "  for key in keys:\n",
        "    ax = axes[int(counter / 2)][counter % 2]\n",
        "    x_axis = survival_rate[key].keys()\n",
        "    # y_axis_1 = not survived, y_axis_2 = survived\n",
        "    y_axis_1 = []\n",
        "    y_axis_2 = []\n",
        "    label_1 = []\n",
        "    label_2 = []\n",
        "    for x in x_axis:\n",
        "      total = float(survival_rate[key][x][0] + survival_rate[key][x][1])\n",
        "      y_axis_1.append(survival_rate[key][x][0])\n",
        "      y_axis_2.append(survival_rate[key][x][1])\n",
        "      label_1.append(round(survival_rate[key][x][0] / total, 2))\n",
        "      label_2.append(round(survival_rate[key][x][1] / total, 2))\n",
        "\n",
        "    x_axis = list(map(lambda x: str(x), survival_rate[key].keys()))\n",
        "    bar1 = ax.bar(x_axis, y_axis_1, color='red', width=0.5)\n",
        "    bar2 = ax.bar(x_axis, y_axis_2, bottom=y_axis_1, color='green', width=0.5)\n",
        "    ax.bar_label(bar1, label_1, label_type='center')\n",
        "    ax.bar_label(bar2, label_2, label_type='center')\n",
        "    ax.set_title(key)\n",
        "    counter = counter + 1"
      ],
      "metadata": {
        "id": "O-NKBbavlCml"
      },
      "execution_count": null,
      "outputs": []
    },
    {
      "cell_type": "code",
      "source": [
        "def process_data(data, split_rate=None, to_tensor=True, drop_columns=None):\n",
        "  train_data = data\n",
        "  train_data = train_data.drop(axis=1, labels=['PassengerId', 'Name', 'Ticket', 'Cabin', 'Age'])\n",
        "\n",
        "  # age = list(train_data.loc[:, 'Age'])\n",
        "  # for i in range(len(age)):\n",
        "  #   age[i] = min(age[i], 70)\n",
        "  # train_data.loc[:, 'Age'] = age\n",
        "\n",
        "  fare = list(train_data.loc[:, 'Fare'])\n",
        "  for i in range(len(fare)):\n",
        "    fare[i] = min(fare[i], 100)\n",
        "  train_data.loc[:, 'Fare'] = fare\n",
        "  train_data['Fare'] = train_data['Fare'].fillna(0.0)\n",
        "\n",
        "  train_data['Sex'] = train_data['Sex'].map({\n",
        "      'male': 0,\n",
        "      'female': 1\n",
        "  })\n",
        "  train_data['Embarked'] = train_data['Embarked'].map({\n",
        "      'S': 0,\n",
        "      'C': 1,\n",
        "      'Q': 2,\n",
        "      0 : 3,\n",
        "  })\n",
        "  train_data['Embarked'] = train_data['Embarked'].fillna(4)\n",
        "\n",
        "  train_data['Fare'] = (train_data['Fare'] - train_data['Fare'].mean()) / train_data['Fare'].std()\n",
        "\n",
        "  if drop_columns is not None:\n",
        "    for col in drop_columns:\n",
        "      train_data = train_data.drop(col, axis=1)\n",
        "\n",
        "  try:\n",
        "    train_y = train_data.pop('Survived')\n",
        "  except KeyError:\n",
        "    train_x = tf.convert_to_tensor(train_data)\n",
        "    return train_x\n",
        "\n",
        "  if split_rate is not None:\n",
        "    train_x, test_x, train_y, test_y = model_selection.train_test_split(train_data, train_y, test_size=split_rate)\n",
        "  else:\n",
        "    if to_tensor:\n",
        "      train_data = tf.convert_to_tensor(train_data)\n",
        "    return train_data, train_y\n",
        "\n",
        "  if to_tensor:\n",
        "    train_x = tf.convert_to_tensor(train_x)\n",
        "    test_x = tf.convert_to_tensor(test_x)\n",
        "  # scaler = preprocessing.StandardScaler().fit(train_x)\n",
        "  # train_x = scaler.transform(train_x)\n",
        "\n",
        "\n",
        "  return train_x, test_x, train_y, test_y"
      ],
      "metadata": {
        "id": "2U3eNK2vAByn"
      },
      "execution_count": null,
      "outputs": []
    },
    {
      "cell_type": "code",
      "source": [
        "def save_model(model, acc, name):\n",
        "  model.save('/content/drive/MyDrive/Kaggle/titanic/models/' + name + '.keras')\n",
        "  plt.plot(acc)\n",
        "  plt.title(name)\n",
        "  plt.savefig('/content/drive/MyDrive/Kaggle/titanic/accuracy/' + name + '.jpg')"
      ],
      "metadata": {
        "id": "kAXzJGTg9TTI"
      },
      "execution_count": null,
      "outputs": []
    },
    {
      "cell_type": "code",
      "source": [
        "def write_prediction(prediction, name):\n",
        "  with open('/content/drive/MyDrive/Kaggle/titanic/submissions/' + name + '.csv', 'w', encoding='UTF8', newline='') as f:\n",
        "    writer = csv.writer(f)\n",
        "    writer.writerow(['PassengerId', 'Survived'])\n",
        "    for i in range(len(prediction)):\n",
        "      currentRow = [892 + i, int(prediction[i])]\n",
        "      writer.writerow(currentRow)"
      ],
      "metadata": {
        "id": "T8yQ2k6jEgnh"
      },
      "execution_count": null,
      "outputs": []
    }
  ]
}