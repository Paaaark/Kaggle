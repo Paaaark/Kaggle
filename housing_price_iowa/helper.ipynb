{
  "nbformat": 4,
  "nbformat_minor": 0,
  "metadata": {
    "colab": {
      "provenance": [],
      "authorship_tag": "ABX9TyMZEK4AqD+TqkeeQbVRlkCn",
      "include_colab_link": true
    },
    "kernelspec": {
      "name": "python3",
      "display_name": "Python 3"
    },
    "language_info": {
      "name": "python"
    }
  },
  "cells": [
    {
      "cell_type": "markdown",
      "metadata": {
        "id": "view-in-github",
        "colab_type": "text"
      },
      "source": [
        "<a href=\"https://colab.research.google.com/github/Paaaark/Kaggle/blob/main/housing_price_iowa/helper.ipynb\" target=\"_parent\"><img src=\"https://colab.research.google.com/assets/colab-badge.svg\" alt=\"Open In Colab\"/></a>"
      ]
    },
    {
      "cell_type": "code",
      "source": [
        "from sklearn.metrics import mean_squared_error\n",
        "import numpy as np\n",
        "import csv"
      ],
      "metadata": {
        "id": "OXPOoxLg_5oU"
      },
      "execution_count": null,
      "outputs": []
    },
    {
      "cell_type": "code",
      "execution_count": null,
      "metadata": {
        "id": "b1qK8QIy_GzT"
      },
      "outputs": [],
      "source": [
        "def rmse(actual_y, pred_y, apply_log=True):\n",
        "  if apply_log:\n",
        "    actual_y = np.log10(actual_y)\n",
        "    pred_y = np.log10(pred_y)\n",
        "\n",
        "  error = mean_squared_error(actual_y, pred_y, squared=False)\n",
        "  return error"
      ]
    },
    {
      "cell_type": "code",
      "source": [
        "def save_pred(file_name, pred):\n",
        "  with open('/content/drive/MyDrive/Kaggle/housing_price_iowa/submissions/' + file_name + '.csv',\n",
        "            'w', encoding='UTF8', newline=''):\n",
        "    writer = csv.writer(f)\n",
        "    writer.writerow(['Id', 'SalePrice'])\n",
        "    for i in range(len(pred)):\n",
        "      currentRow = [1461 + i, pred[i]]\n",
        "      writer.writerow(currentRow)"
      ],
      "metadata": {
        "id": "UpEep2dZ_3i3"
      },
      "execution_count": null,
      "outputs": []
    }
  ]
}